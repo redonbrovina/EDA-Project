{
 "cells": [
  {
   "cell_type": "markdown",
   "id": "de8e6752-d6e2-4767-ad40-2d8cd3208274",
   "metadata": {},
   "source": [
    "Detyra:\n",
    "\n",
    "Te behet analiza eksploruese e datasetit Survey_results (pershkrimi i vecorive, vlerat e munguara, vlerat ekstreme, trajtimi i tyre, vecorite e reja, etj)\n",
    "Pershkruani rezultatet e fituara ne nje .pdf file. Modelimi nuk eshte i obligueshem"
   ]
  },
  {
   "cell_type": "code",
   "execution_count": 1,
   "id": "38023e7a-660d-4d09-b174-4ad6f8340d30",
   "metadata": {},
   "outputs": [],
   "source": [
    "#Importimi i librarive\n",
    "\n",
    "import pandas as pd\n",
    "import numpy as np"
   ]
  },
  {
   "cell_type": "code",
   "execution_count": null,
   "id": "ee909396",
   "metadata": {},
   "outputs": [],
   "source": [
    "#Lexojme te dhenat nga dataseti\n",
    "\n",
    "df = pd.read_csv('./survey_results_public.csv')"
   ]
  },
  {
   "cell_type": "markdown",
   "id": "75452fe9-0303-4711-b1ca-8f8c3c2f77a1",
   "metadata": {},
   "source": [
    "Shohim formen e datasetit dhe analizojme te dhenat me te cilat punojme."
   ]
  },
  {
   "cell_type": "code",
   "execution_count": 3,
   "id": "9ba1155e",
   "metadata": {},
   "outputs": [
    {
     "data": {
      "text/plain": [
       "(89184, 84)"
      ]
     },
     "execution_count": 3,
     "metadata": {},
     "output_type": "execute_result"
    }
   ],
   "source": [
    "df.shape"
   ]
  },
  {
   "cell_type": "code",
   "execution_count": 4,
   "id": "78ba34d2-c377-4c8e-b059-b4f35cc0a052",
   "metadata": {},
   "outputs": [
    {
     "data": {
      "text/html": [
       "<div>\n",
       "<style scoped>\n",
       "    .dataframe tbody tr th:only-of-type {\n",
       "        vertical-align: middle;\n",
       "    }\n",
       "\n",
       "    .dataframe tbody tr th {\n",
       "        vertical-align: top;\n",
       "    }\n",
       "\n",
       "    .dataframe thead th {\n",
       "        text-align: right;\n",
       "    }\n",
       "</style>\n",
       "<table border=\"1\" class=\"dataframe\">\n",
       "  <thead>\n",
       "    <tr style=\"text-align: right;\">\n",
       "      <th></th>\n",
       "      <th>ResponseId</th>\n",
       "      <th>CompTotal</th>\n",
       "      <th>WorkExp</th>\n",
       "      <th>ConvertedCompYearly</th>\n",
       "    </tr>\n",
       "  </thead>\n",
       "  <tbody>\n",
       "    <tr>\n",
       "      <th>count</th>\n",
       "      <td>89184.000000</td>\n",
       "      <td>4.822500e+04</td>\n",
       "      <td>43579.000000</td>\n",
       "      <td>4.801900e+04</td>\n",
       "    </tr>\n",
       "    <tr>\n",
       "      <th>mean</th>\n",
       "      <td>44592.500000</td>\n",
       "      <td>1.036807e+42</td>\n",
       "      <td>11.405126</td>\n",
       "      <td>1.031101e+05</td>\n",
       "    </tr>\n",
       "    <tr>\n",
       "      <th>std</th>\n",
       "      <td>25745.347541</td>\n",
       "      <td>2.276847e+44</td>\n",
       "      <td>9.051989</td>\n",
       "      <td>6.814188e+05</td>\n",
       "    </tr>\n",
       "    <tr>\n",
       "      <th>min</th>\n",
       "      <td>1.000000</td>\n",
       "      <td>0.000000e+00</td>\n",
       "      <td>0.000000</td>\n",
       "      <td>1.000000e+00</td>\n",
       "    </tr>\n",
       "    <tr>\n",
       "      <th>25%</th>\n",
       "      <td>22296.750000</td>\n",
       "      <td>6.300000e+04</td>\n",
       "      <td>5.000000</td>\n",
       "      <td>4.390700e+04</td>\n",
       "    </tr>\n",
       "    <tr>\n",
       "      <th>50%</th>\n",
       "      <td>44592.500000</td>\n",
       "      <td>1.150000e+05</td>\n",
       "      <td>9.000000</td>\n",
       "      <td>7.496300e+04</td>\n",
       "    </tr>\n",
       "    <tr>\n",
       "      <th>75%</th>\n",
       "      <td>66888.250000</td>\n",
       "      <td>2.300000e+05</td>\n",
       "      <td>16.000000</td>\n",
       "      <td>1.216410e+05</td>\n",
       "    </tr>\n",
       "    <tr>\n",
       "      <th>max</th>\n",
       "      <td>89184.000000</td>\n",
       "      <td>5.000000e+46</td>\n",
       "      <td>50.000000</td>\n",
       "      <td>7.435143e+07</td>\n",
       "    </tr>\n",
       "  </tbody>\n",
       "</table>\n",
       "</div>"
      ],
      "text/plain": [
       "         ResponseId     CompTotal       WorkExp  ConvertedCompYearly\n",
       "count  89184.000000  4.822500e+04  43579.000000         4.801900e+04\n",
       "mean   44592.500000  1.036807e+42     11.405126         1.031101e+05\n",
       "std    25745.347541  2.276847e+44      9.051989         6.814188e+05\n",
       "min        1.000000  0.000000e+00      0.000000         1.000000e+00\n",
       "25%    22296.750000  6.300000e+04      5.000000         4.390700e+04\n",
       "50%    44592.500000  1.150000e+05      9.000000         7.496300e+04\n",
       "75%    66888.250000  2.300000e+05     16.000000         1.216410e+05\n",
       "max    89184.000000  5.000000e+46     50.000000         7.435143e+07"
      ]
     },
     "execution_count": 4,
     "metadata": {},
     "output_type": "execute_result"
    }
   ],
   "source": [
    "df.describe()"
   ]
  },
  {
   "cell_type": "code",
   "execution_count": 5,
   "id": "3ef3b153-9a9b-4af5-84f1-d6f535b67c6e",
   "metadata": {},
   "outputs": [
    {
     "data": {
      "text/html": [
       "<div>\n",
       "<style scoped>\n",
       "    .dataframe tbody tr th:only-of-type {\n",
       "        vertical-align: middle;\n",
       "    }\n",
       "\n",
       "    .dataframe tbody tr th {\n",
       "        vertical-align: top;\n",
       "    }\n",
       "\n",
       "    .dataframe thead th {\n",
       "        text-align: right;\n",
       "    }\n",
       "</style>\n",
       "<table border=\"1\" class=\"dataframe\">\n",
       "  <thead>\n",
       "    <tr style=\"text-align: right;\">\n",
       "      <th></th>\n",
       "      <th>ResponseId</th>\n",
       "      <th>Q120</th>\n",
       "      <th>MainBranch</th>\n",
       "      <th>Age</th>\n",
       "      <th>Employment</th>\n",
       "      <th>RemoteWork</th>\n",
       "      <th>CodingActivities</th>\n",
       "      <th>EdLevel</th>\n",
       "      <th>LearnCode</th>\n",
       "      <th>LearnCodeOnline</th>\n",
       "      <th>...</th>\n",
       "      <th>Frequency_1</th>\n",
       "      <th>Frequency_2</th>\n",
       "      <th>Frequency_3</th>\n",
       "      <th>TimeSearching</th>\n",
       "      <th>TimeAnswering</th>\n",
       "      <th>ProfessionalTech</th>\n",
       "      <th>Industry</th>\n",
       "      <th>SurveyLength</th>\n",
       "      <th>SurveyEase</th>\n",
       "      <th>ConvertedCompYearly</th>\n",
       "    </tr>\n",
       "  </thead>\n",
       "  <tbody>\n",
       "    <tr>\n",
       "      <th>0</th>\n",
       "      <td>1</td>\n",
       "      <td>I agree</td>\n",
       "      <td>None of these</td>\n",
       "      <td>18-24 years old</td>\n",
       "      <td>NaN</td>\n",
       "      <td>NaN</td>\n",
       "      <td>NaN</td>\n",
       "      <td>NaN</td>\n",
       "      <td>NaN</td>\n",
       "      <td>NaN</td>\n",
       "      <td>...</td>\n",
       "      <td>NaN</td>\n",
       "      <td>NaN</td>\n",
       "      <td>NaN</td>\n",
       "      <td>NaN</td>\n",
       "      <td>NaN</td>\n",
       "      <td>NaN</td>\n",
       "      <td>NaN</td>\n",
       "      <td>NaN</td>\n",
       "      <td>NaN</td>\n",
       "      <td>NaN</td>\n",
       "    </tr>\n",
       "    <tr>\n",
       "      <th>1</th>\n",
       "      <td>2</td>\n",
       "      <td>I agree</td>\n",
       "      <td>I am a developer by profession</td>\n",
       "      <td>25-34 years old</td>\n",
       "      <td>Employed, full-time</td>\n",
       "      <td>Remote</td>\n",
       "      <td>Hobby;Contribute to open-source projects;Boots...</td>\n",
       "      <td>Bachelor’s degree (B.A., B.S., B.Eng., etc.)</td>\n",
       "      <td>Books / Physical media;Colleague;Friend or fam...</td>\n",
       "      <td>Formal documentation provided by the owner of ...</td>\n",
       "      <td>...</td>\n",
       "      <td>1-2 times a week</td>\n",
       "      <td>10+ times a week</td>\n",
       "      <td>Never</td>\n",
       "      <td>15-30 minutes a day</td>\n",
       "      <td>15-30 minutes a day</td>\n",
       "      <td>DevOps function;Microservices;Automated testin...</td>\n",
       "      <td>Information Services, IT, Software Development...</td>\n",
       "      <td>Appropriate in length</td>\n",
       "      <td>Easy</td>\n",
       "      <td>285000.0</td>\n",
       "    </tr>\n",
       "    <tr>\n",
       "      <th>2</th>\n",
       "      <td>3</td>\n",
       "      <td>I agree</td>\n",
       "      <td>I am a developer by profession</td>\n",
       "      <td>45-54 years old</td>\n",
       "      <td>Employed, full-time</td>\n",
       "      <td>Hybrid (some remote, some in-person)</td>\n",
       "      <td>Hobby;Professional development or self-paced l...</td>\n",
       "      <td>Bachelor’s degree (B.A., B.S., B.Eng., etc.)</td>\n",
       "      <td>Books / Physical media;Colleague;On the job tr...</td>\n",
       "      <td>Formal documentation provided by the owner of ...</td>\n",
       "      <td>...</td>\n",
       "      <td>6-10 times a week</td>\n",
       "      <td>6-10 times a week</td>\n",
       "      <td>3-5 times a week</td>\n",
       "      <td>30-60 minutes a day</td>\n",
       "      <td>30-60 minutes a day</td>\n",
       "      <td>DevOps function;Microservices;Automated testin...</td>\n",
       "      <td>Information Services, IT, Software Development...</td>\n",
       "      <td>Appropriate in length</td>\n",
       "      <td>Easy</td>\n",
       "      <td>250000.0</td>\n",
       "    </tr>\n",
       "    <tr>\n",
       "      <th>3</th>\n",
       "      <td>4</td>\n",
       "      <td>I agree</td>\n",
       "      <td>I am a developer by profession</td>\n",
       "      <td>25-34 years old</td>\n",
       "      <td>Employed, full-time</td>\n",
       "      <td>Hybrid (some remote, some in-person)</td>\n",
       "      <td>Hobby</td>\n",
       "      <td>Bachelor’s degree (B.A., B.S., B.Eng., etc.)</td>\n",
       "      <td>Colleague;Friend or family member;Other online...</td>\n",
       "      <td>Formal documentation provided by the owner of ...</td>\n",
       "      <td>...</td>\n",
       "      <td>1-2 times a week</td>\n",
       "      <td>10+ times a week</td>\n",
       "      <td>1-2 times a week</td>\n",
       "      <td>15-30 minutes a day</td>\n",
       "      <td>30-60 minutes a day</td>\n",
       "      <td>Automated testing;Continuous integration (CI) ...</td>\n",
       "      <td>NaN</td>\n",
       "      <td>Appropriate in length</td>\n",
       "      <td>Easy</td>\n",
       "      <td>156000.0</td>\n",
       "    </tr>\n",
       "    <tr>\n",
       "      <th>4</th>\n",
       "      <td>5</td>\n",
       "      <td>I agree</td>\n",
       "      <td>I am a developer by profession</td>\n",
       "      <td>25-34 years old</td>\n",
       "      <td>Employed, full-time;Independent contractor, fr...</td>\n",
       "      <td>Remote</td>\n",
       "      <td>Hobby;Contribute to open-source projects;Profe...</td>\n",
       "      <td>Bachelor’s degree (B.A., B.S., B.Eng., etc.)</td>\n",
       "      <td>Books / Physical media;Online Courses or Certi...</td>\n",
       "      <td>Formal documentation provided by the owner of ...</td>\n",
       "      <td>...</td>\n",
       "      <td>1-2 times a week</td>\n",
       "      <td>1-2 times a week</td>\n",
       "      <td>3-5 times a week</td>\n",
       "      <td>60-120 minutes a day</td>\n",
       "      <td>30-60 minutes a day</td>\n",
       "      <td>Microservices;Automated testing;Observability ...</td>\n",
       "      <td>Other</td>\n",
       "      <td>Appropriate in length</td>\n",
       "      <td>Neither easy nor difficult</td>\n",
       "      <td>23456.0</td>\n",
       "    </tr>\n",
       "  </tbody>\n",
       "</table>\n",
       "<p>5 rows × 84 columns</p>\n",
       "</div>"
      ],
      "text/plain": [
       "   ResponseId     Q120                      MainBranch              Age  \\\n",
       "0           1  I agree                   None of these  18-24 years old   \n",
       "1           2  I agree  I am a developer by profession  25-34 years old   \n",
       "2           3  I agree  I am a developer by profession  45-54 years old   \n",
       "3           4  I agree  I am a developer by profession  25-34 years old   \n",
       "4           5  I agree  I am a developer by profession  25-34 years old   \n",
       "\n",
       "                                          Employment  \\\n",
       "0                                                NaN   \n",
       "1                                Employed, full-time   \n",
       "2                                Employed, full-time   \n",
       "3                                Employed, full-time   \n",
       "4  Employed, full-time;Independent contractor, fr...   \n",
       "\n",
       "                             RemoteWork  \\\n",
       "0                                   NaN   \n",
       "1                                Remote   \n",
       "2  Hybrid (some remote, some in-person)   \n",
       "3  Hybrid (some remote, some in-person)   \n",
       "4                                Remote   \n",
       "\n",
       "                                    CodingActivities  \\\n",
       "0                                                NaN   \n",
       "1  Hobby;Contribute to open-source projects;Boots...   \n",
       "2  Hobby;Professional development or self-paced l...   \n",
       "3                                              Hobby   \n",
       "4  Hobby;Contribute to open-source projects;Profe...   \n",
       "\n",
       "                                        EdLevel  \\\n",
       "0                                           NaN   \n",
       "1  Bachelor’s degree (B.A., B.S., B.Eng., etc.)   \n",
       "2  Bachelor’s degree (B.A., B.S., B.Eng., etc.)   \n",
       "3  Bachelor’s degree (B.A., B.S., B.Eng., etc.)   \n",
       "4  Bachelor’s degree (B.A., B.S., B.Eng., etc.)   \n",
       "\n",
       "                                           LearnCode  \\\n",
       "0                                                NaN   \n",
       "1  Books / Physical media;Colleague;Friend or fam...   \n",
       "2  Books / Physical media;Colleague;On the job tr...   \n",
       "3  Colleague;Friend or family member;Other online...   \n",
       "4  Books / Physical media;Online Courses or Certi...   \n",
       "\n",
       "                                     LearnCodeOnline  ...        Frequency_1  \\\n",
       "0                                                NaN  ...                NaN   \n",
       "1  Formal documentation provided by the owner of ...  ...   1-2 times a week   \n",
       "2  Formal documentation provided by the owner of ...  ...  6-10 times a week   \n",
       "3  Formal documentation provided by the owner of ...  ...   1-2 times a week   \n",
       "4  Formal documentation provided by the owner of ...  ...   1-2 times a week   \n",
       "\n",
       "         Frequency_2       Frequency_3         TimeSearching  \\\n",
       "0                NaN               NaN                   NaN   \n",
       "1   10+ times a week             Never   15-30 minutes a day   \n",
       "2  6-10 times a week  3-5 times a week   30-60 minutes a day   \n",
       "3   10+ times a week  1-2 times a week   15-30 minutes a day   \n",
       "4   1-2 times a week  3-5 times a week  60-120 minutes a day   \n",
       "\n",
       "         TimeAnswering                                   ProfessionalTech  \\\n",
       "0                  NaN                                                NaN   \n",
       "1  15-30 minutes a day  DevOps function;Microservices;Automated testin...   \n",
       "2  30-60 minutes a day  DevOps function;Microservices;Automated testin...   \n",
       "3  30-60 minutes a day  Automated testing;Continuous integration (CI) ...   \n",
       "4  30-60 minutes a day  Microservices;Automated testing;Observability ...   \n",
       "\n",
       "                                            Industry           SurveyLength  \\\n",
       "0                                                NaN                    NaN   \n",
       "1  Information Services, IT, Software Development...  Appropriate in length   \n",
       "2  Information Services, IT, Software Development...  Appropriate in length   \n",
       "3                                                NaN  Appropriate in length   \n",
       "4                                              Other  Appropriate in length   \n",
       "\n",
       "                   SurveyEase ConvertedCompYearly  \n",
       "0                         NaN                 NaN  \n",
       "1                        Easy            285000.0  \n",
       "2                        Easy            250000.0  \n",
       "3                        Easy            156000.0  \n",
       "4  Neither easy nor difficult             23456.0  \n",
       "\n",
       "[5 rows x 84 columns]"
      ]
     },
     "execution_count": 5,
     "metadata": {},
     "output_type": "execute_result"
    }
   ],
   "source": [
    "df.head()"
   ]
  },
  {
   "cell_type": "code",
   "execution_count": 6,
   "id": "3e8b3a6c",
   "metadata": {},
   "outputs": [],
   "source": [
    "#Tentojme te largojme duplikatet nga dataseti\n",
    "\n",
    "df_without_duplicates = df.drop_duplicates()"
   ]
  },
  {
   "cell_type": "code",
   "execution_count": 7,
   "id": "8695f5b1",
   "metadata": {},
   "outputs": [
    {
     "name": "stdout",
     "output_type": "stream",
     "text": [
      "(89184, 84)\n"
     ]
    }
   ],
   "source": [
    "#Shohim se dataseti nuk ka duplikate\n",
    "\n",
    "print(df_without_duplicates.shape)"
   ]
  },
  {
   "cell_type": "code",
   "execution_count": 8,
   "id": "df8d5240",
   "metadata": {},
   "outputs": [],
   "source": [
    "#Vendosim datasetin tone ne nje variabel tjeter, ne te cilen do te punojme dhe do ta ndryshojme (clean_df)\n",
    "\n",
    "clean_df = df"
   ]
  },
  {
   "cell_type": "code",
   "execution_count": 9,
   "id": "a9ead465",
   "metadata": {},
   "outputs": [],
   "source": [
    "#Dallojme rreshtat tek te cilet mungojne gjysma e te dhenave (te paperdorshem) dhe i largojme nga dataseti.\n",
    "\n",
    "threshold = 0.5\n",
    "\n",
    "missing_ratio = clean_df.isnull().mean(axis=1)\n",
    "\n",
    "rows_to_drop = clean_df[missing_ratio > threshold].index\n",
    "\n",
    "clean_df = clean_df.drop(rows_to_drop)"
   ]
  },
  {
   "cell_type": "code",
   "execution_count": 10,
   "id": "b41c44c7",
   "metadata": {},
   "outputs": [
    {
     "name": "stdout",
     "output_type": "stream",
     "text": [
      "(74706, 84)\n"
     ]
    }
   ],
   "source": [
    "print(clean_df.shape)"
   ]
  },
  {
   "cell_type": "code",
   "execution_count": 11,
   "id": "dde0df6f",
   "metadata": {},
   "outputs": [],
   "source": [
    "#Si vepruam per largimin e rreshtave veprojme edhe me kolona. Tek kolonat ne te cilat mungon me shume se gjysma e te dhenave\n",
    "#i vleresojme si kolona te papaerdorshme ne datasetin tone. Keshtu i largojme.\n",
    "\n",
    "threshold = 0.5\n",
    "\n",
    "missing_ratio = clean_df.isnull().mean(axis=0)\n",
    "\n",
    "columns_to_drop = missing_ratio[missing_ratio > threshold].index\n",
    "\n",
    "clean_df = clean_df.drop(columns=columns_to_drop)"
   ]
  },
  {
   "cell_type": "code",
   "execution_count": 12,
   "id": "c19ae1ac",
   "metadata": {},
   "outputs": [
    {
     "name": "stdout",
     "output_type": "stream",
     "text": [
      "(74706, 71)\n"
     ]
    }
   ],
   "source": [
    "#Shohim se dataseti yne ka nderruar forme dhe nga ai jane larguar rreth 15000 rreshta dhe 13 kolona\n",
    "\n",
    "print(clean_df.shape)"
   ]
  },
  {
   "cell_type": "code",
   "execution_count": 13,
   "id": "8c3384fb",
   "metadata": {},
   "outputs": [
    {
     "data": {
      "text/plain": [
       "array(['I agree'], dtype=object)"
      ]
     },
     "execution_count": 13,
     "metadata": {},
     "output_type": "execute_result"
    }
   ],
   "source": [
    "clean_df['Q120'].unique()"
   ]
  },
  {
   "cell_type": "code",
   "execution_count": 14,
   "id": "9fea0249",
   "metadata": {},
   "outputs": [],
   "source": [
    "#Kolona Q120 permban vetem nje vlere te I agree. Edhe pse kjo vlere mund te vleje si konfirmim i pjesemarrjes per pjesemarresit,\n",
    "#vete perfshirja ne dataset implikon pjesemarresit qe kane pranuar. Per kete kolona nuk eshte e dobishme dhe e largojme\n",
    "\n",
    "clean_df = clean_df.drop(columns='Q120')"
   ]
  },
  {
   "cell_type": "code",
   "execution_count": 15,
   "id": "908f559f",
   "metadata": {},
   "outputs": [
    {
     "name": "stdout",
     "output_type": "stream",
     "text": [
      "<class 'pandas.core.frame.DataFrame'>\n",
      "Index: 74706 entries, 1 to 89183\n",
      "Data columns (total 70 columns):\n",
      " #   Column                          Non-Null Count  Dtype  \n",
      "---  ------                          --------------  -----  \n",
      " 0   ResponseId                      74706 non-null  int64  \n",
      " 1   MainBranch                      74706 non-null  object \n",
      " 2   Age                             74706 non-null  object \n",
      " 3   Employment                      74680 non-null  object \n",
      " 4   RemoteWork                      68335 non-null  object \n",
      " 5   CodingActivities                68299 non-null  object \n",
      " 6   EdLevel                         74706 non-null  object \n",
      " 7   LearnCode                       74578 non-null  object \n",
      " 8   LearnCodeOnline                 60536 non-null  object \n",
      " 9   YearsCode                       74498 non-null  object \n",
      " 10  YearsCodePro                    62209 non-null  object \n",
      " 11  DevType                         70082 non-null  object \n",
      " 12  OrgSize                         61471 non-null  object \n",
      " 13  PurchaseInfluence               61427 non-null  object \n",
      " 14  TechList                        51776 non-null  object \n",
      " 15  BuyNewTool                      71880 non-null  object \n",
      " 16  Country                         74706 non-null  object \n",
      " 17  Currency                        61569 non-null  object \n",
      " 18  CompTotal                       46778 non-null  float64\n",
      " 19  LanguageHaveWorkedWith          74509 non-null  object \n",
      " 20  LanguageWantToWorkWith          70207 non-null  object \n",
      " 21  DatabaseHaveWorkedWith          65892 non-null  object \n",
      " 22  DatabaseWantToWorkWith          56362 non-null  object \n",
      " 23  PlatformHaveWorkedWith          58733 non-null  object \n",
      " 24  PlatformWantToWorkWith          48729 non-null  object \n",
      " 25  WebframeHaveWorkedWith          60666 non-null  object \n",
      " 26  WebframeWantToWorkWith          52910 non-null  object \n",
      " 27  MiscTechHaveWorkedWith          51197 non-null  object \n",
      " 28  MiscTechWantToWorkWith          43265 non-null  object \n",
      " 29  ToolsTechHaveWorkedWith         68964 non-null  object \n",
      " 30  ToolsTechWantToWorkWith         61950 non-null  object \n",
      " 31  NEWCollabToolsHaveWorkedWith    73966 non-null  object \n",
      " 32  NEWCollabToolsWantToWorkWith    67530 non-null  object \n",
      " 33  OpSysPersonal use               74057 non-null  object \n",
      " 34  OpSysProfessional use           69648 non-null  object \n",
      " 35  OfficeStackAsyncHaveWorkedWith  63522 non-null  object \n",
      " 36  OfficeStackAsyncWantToWorkWith  50729 non-null  object \n",
      " 37  OfficeStackSyncHaveWorkedWith   72889 non-null  object \n",
      " 38  OfficeStackSyncWantToWorkWith   62637 non-null  object \n",
      " 39  AISearchHaveWorkedWith          50344 non-null  object \n",
      " 40  AISearchWantToWorkWith          42359 non-null  object \n",
      " 41  NEWSOSites                      74706 non-null  object \n",
      " 42  SOVisitFreq                     74338 non-null  object \n",
      " 43  SOAccount                       74676 non-null  object \n",
      " 44  SOPartFreq                      58253 non-null  object \n",
      " 45  SOComm                          74603 non-null  object \n",
      " 46  SOAI                            42270 non-null  object \n",
      " 47  AISelect                        74706 non-null  object \n",
      " 48  AISent                          55476 non-null  object \n",
      " 49  AIBen                           55438 non-null  object \n",
      " 50  TBranch                         62093 non-null  object \n",
      " 51  ICorPM                          43471 non-null  object \n",
      " 52  WorkExp                         43387 non-null  float64\n",
      " 53  Knowledge_1                     42493 non-null  object \n",
      " 54  Knowledge_2                     41646 non-null  object \n",
      " 55  Knowledge_3                     41775 non-null  object \n",
      " 56  Knowledge_4                     41667 non-null  object \n",
      " 57  Knowledge_5                     41512 non-null  object \n",
      " 58  Knowledge_6                     41506 non-null  object \n",
      " 59  Knowledge_7                     41453 non-null  object \n",
      " 60  Knowledge_8                     41392 non-null  object \n",
      " 61  Frequency_1                     41891 non-null  object \n",
      " 62  Frequency_2                     41903 non-null  object \n",
      " 63  Frequency_3                     41038 non-null  object \n",
      " 64  TimeSearching                   42711 non-null  object \n",
      " 65  TimeAnswering                   42581 non-null  object \n",
      " 66  ProfessionalTech                41743 non-null  object \n",
      " 67  SurveyLength                    73814 non-null  object \n",
      " 68  SurveyEase                      73870 non-null  object \n",
      " 69  ConvertedCompYearly             46605 non-null  float64\n",
      "dtypes: float64(3), int64(1), object(66)\n",
      "memory usage: 40.5+ MB\n"
     ]
    }
   ],
   "source": [
    "#Analizojme datasetin dhe te dhenat e tij\n",
    "\n",
    "clean_df.info()"
   ]
  },
  {
   "cell_type": "code",
   "execution_count": 16,
   "id": "3b923602",
   "metadata": {},
   "outputs": [
    {
     "data": {
      "text/plain": [
       "array(['I am a developer by profession',\n",
       "       'I am not primarily a developer, but I write code sometimes as part of my work/studies',\n",
       "       'I am learning to code', 'I code primarily as a hobby',\n",
       "       'I used to be a developer by profession, but no longer am'],\n",
       "      dtype=object)"
      ]
     },
     "execution_count": 16,
     "metadata": {},
     "output_type": "execute_result"
    }
   ],
   "source": [
    "clean_df['MainBranch'].unique()"
   ]
  },
  {
   "cell_type": "markdown",
   "id": "0a95261a-f735-4af4-b26e-01666a638481",
   "metadata": {},
   "source": [
    "Rishkruajme vlerat per MainBranch qe te jene me te lexueshme dhe te thjeshta. Me pas shnderrojme tipin e te dhenave te saj ne te dhena kategorike.\n",
    "\n",
    "Ne Vazhdim, veprojme njejte edhe per kolonat Age dhe EdLevel, te cilat i bejme me te lexueshme dhe te perdorshme."
   ]
  },
  {
   "cell_type": "code",
   "execution_count": 17,
   "id": "e7e9a6f7",
   "metadata": {},
   "outputs": [],
   "source": [
    "clean_df['MainBranch'] = clean_df['MainBranch'].replace({\n",
    "    'I am a developer by profession':'professional developer',\n",
    "    'I am not primarily a developer, but I write code sometimes as part of my work/studies': 'not primarily a developer',\n",
    "    'I am learning to code':'aspiring developer',\n",
    "    'I code primarily as a hobby':'codes for fun',\n",
    "    'I used to be a developer by profession, but no longer am':'former-developer'\n",
    "})"
   ]
  },
  {
   "cell_type": "code",
   "execution_count": 18,
   "id": "4fc94a98",
   "metadata": {},
   "outputs": [],
   "source": [
    "clean_df['MainBranch'] = clean_df['MainBranch'].astype('category')"
   ]
  },
  {
   "cell_type": "code",
   "execution_count": 19,
   "id": "a97214f0",
   "metadata": {},
   "outputs": [
    {
     "data": {
      "text/plain": [
       "array(['25-34 years old', '45-54 years old', '35-44 years old',\n",
       "       'Under 18 years old', '55-64 years old', '18-24 years old',\n",
       "       '65 years or older', 'Prefer not to say'], dtype=object)"
      ]
     },
     "execution_count": 19,
     "metadata": {},
     "output_type": "execute_result"
    }
   ],
   "source": [
    "clean_df['Age'].unique()"
   ]
  },
  {
   "cell_type": "code",
   "execution_count": 20,
   "id": "6b110d06",
   "metadata": {},
   "outputs": [],
   "source": [
    "clean_df['Age'] = clean_df['Age'].str.replace(' years', '', regex=False)\n",
    "clean_df['Age'] = clean_df['Age'].str.replace(' old', '', regex=False)\n",
    "clean_df['Age'] = clean_df['Age'].str.replace('orer', 'or older', regex=False)"
   ]
  },
  {
   "cell_type": "code",
   "execution_count": 21,
   "id": "2451b071",
   "metadata": {},
   "outputs": [
    {
     "data": {
      "text/plain": [
       "array(['25-34', '45-54', '35-44', 'Under 18', '55-64', '18-24',\n",
       "       '65 or older', 'Prefer not to say'], dtype=object)"
      ]
     },
     "execution_count": 21,
     "metadata": {},
     "output_type": "execute_result"
    }
   ],
   "source": [
    "clean_df['Age'].unique()"
   ]
  },
  {
   "cell_type": "code",
   "execution_count": 22,
   "id": "029cb073",
   "metadata": {},
   "outputs": [
    {
     "data": {
      "text/plain": [
       "array(['Bachelor’s degree (B.A., B.S., B.Eng., etc.)',\n",
       "       'Some college/university study without earning a degree',\n",
       "       'Master’s degree (M.A., M.S., M.Eng., MBA, etc.)',\n",
       "       'Primary/elementary school',\n",
       "       'Professional degree (JD, MD, Ph.D, Ed.D, etc.)',\n",
       "       'Associate degree (A.A., A.S., etc.)',\n",
       "       'Secondary school (e.g. American high school, German Realschule or Gymnasium, etc.)',\n",
       "       'Something else'], dtype=object)"
      ]
     },
     "execution_count": 22,
     "metadata": {},
     "output_type": "execute_result"
    }
   ],
   "source": [
    "clean_df['EdLevel'].unique()"
   ]
  },
  {
   "cell_type": "code",
   "execution_count": 23,
   "id": "eb30aa06",
   "metadata": {},
   "outputs": [],
   "source": [
    "clean_df['EdLevel'] = clean_df['EdLevel'].replace({\n",
    "    'Bachelor’s degree (B.A., B.S., B.Eng., etc.)':'bachelors degree',\n",
    "    'Some college/university study without earning a degree':'unfinished university degree',\n",
    "    'Master’s degree (M.A., M.S., M.Eng., MBA, etc.)':'masters degree',\n",
    "    'Primary/elementary school':'primary school',\n",
    "    'Professional degree (JD, MD, Ph.D, Ed.D, etc.)':'professional degree',\n",
    "    'Associate degree (A.A., A.S., etc.)': 'associate degree',\n",
    "    'Secondary school (e.g. American high school, German Realschule or Gymnasium, etc.)': 'secondary school',\n",
    "    'Something else':'something else'\n",
    "})"
   ]
  },
  {
   "cell_type": "code",
   "execution_count": 24,
   "id": "0ae5c096",
   "metadata": {},
   "outputs": [
    {
     "data": {
      "text/plain": [
       "np.int64(26)"
      ]
     },
     "execution_count": 24,
     "metadata": {},
     "output_type": "execute_result"
    }
   ],
   "source": [
    "clean_df['Employment'].isna().sum()"
   ]
  },
  {
   "cell_type": "markdown",
   "id": "9fbfcb5d-898b-425e-9a90-cf93bde506e2",
   "metadata": {},
   "source": [
    "Kolona Employment ka vlera qe i mungojne. Keto jane te pakta andaj i zevendesojme me moden qe vlen per kolonen e caktuar.\n",
    "Kjo kolone permban vlera String te cilat jane te ndara me ; dhe paraqesin pozita te ndryshme te cilat i mbajne pjesemarresit e kesaj survey.\n",
    "\n",
    "Kete e trajtojme duke shnderruar se pari kete ne nje liste, ku elementet e listes ndahen nga njera tjetra me paraqitjen e ';'.\n",
    "\n",
    "Pasi i kemi ne nje liste, 'eksplodojme kolonen' ne disa kolona te cilat perfaqesojne vlerat qe permbahen brenda listave te Employment. Me pas keto kolona varesisht sipas paraqitjes per nje pjesemarrjes te caktuar marrin vlera 0 dhe 1 te cilat per ne jane me te pershtatshme se listat ose vlerat paraprake te String.\n",
    "Per shkak se tash kemi vlera individuale te kolonave te cilat me mire paraqesin pozitat e secilit pjesemarres, largojme kolonen Employment"
   ]
  },
  {
   "cell_type": "code",
   "execution_count": 25,
   "id": "4b0b8fd9",
   "metadata": {},
   "outputs": [],
   "source": [
    "employment_mode = clean_df['Employment'].mode()[0]\n",
    "clean_df['Employment'] = clean_df['Employment'].fillna(employment_mode)"
   ]
  },
  {
   "cell_type": "code",
   "execution_count": 26,
   "id": "5e42f5df",
   "metadata": {},
   "outputs": [],
   "source": [
    "clean_df['Employment'] = clean_df['Employment'].apply(\n",
    "    lambda x: [s.strip() for s in x.split(';')] if x else []\n",
    ")"
   ]
  },
  {
   "cell_type": "code",
   "execution_count": 27,
   "id": "9482150f",
   "metadata": {},
   "outputs": [
    {
     "data": {
      "text/plain": [
       "1                                    [Employed, full-time]\n",
       "2                                    [Employed, full-time]\n",
       "3                                    [Employed, full-time]\n",
       "4        [Employed, full-time, Independent contractor, ...\n",
       "5                                    [Employed, full-time]\n",
       "                               ...                        \n",
       "89178                                [Employed, full-time]\n",
       "89179    [Employed, full-time, Independent contractor, ...\n",
       "89180            [Student, full-time, Employed, part-time]\n",
       "89182            [Employed, part-time, Student, part-time]\n",
       "89183                                [Employed, full-time]\n",
       "Name: Employment, Length: 74706, dtype: object"
      ]
     },
     "execution_count": 27,
     "metadata": {},
     "output_type": "execute_result"
    }
   ],
   "source": [
    "clean_df['Employment']"
   ]
  },
  {
   "cell_type": "code",
   "execution_count": 28,
   "id": "c74d11c4",
   "metadata": {},
   "outputs": [],
   "source": [
    "exploded = clean_df['Employment'].explode()\n",
    "\n",
    "one_hot = pd.crosstab(exploded.index, exploded)\n",
    "\n",
    "clean_df = clean_df.join(one_hot)"
   ]
  },
  {
   "cell_type": "code",
   "execution_count": 29,
   "id": "c5bfd98f",
   "metadata": {},
   "outputs": [],
   "source": [
    "clean_df = clean_df.drop(columns='Employment')"
   ]
  },
  {
   "cell_type": "markdown",
   "id": "24a7e892-f9f0-4eaa-8de3-9e5814ccf80a",
   "metadata": {},
   "source": [
    "Ngjashem si kemi vepruar me heret me zevendesim te vlerave te humbura veprojme edhe per kolonen RemoteWork. Vlerat qe mungojne i zevendesojme me moden e kolones.\n",
    "\n",
    "Per perdorim me te mire shnderrojme kolonat e YearsCode dhe YearsCodePro ne kolona numerike, pasi kemi shnderruar vlerat Less than 1 year dhe More than 50 years ne numra perkates."
   ]
  },
  {
   "cell_type": "code",
   "execution_count": 30,
   "id": "df626ac6",
   "metadata": {},
   "outputs": [
    {
     "data": {
      "text/plain": [
       "np.int64(6371)"
      ]
     },
     "execution_count": 30,
     "metadata": {},
     "output_type": "execute_result"
    }
   ],
   "source": [
    "clean_df['RemoteWork'].isna().sum()"
   ]
  },
  {
   "cell_type": "code",
   "execution_count": 31,
   "id": "40400de6",
   "metadata": {},
   "outputs": [],
   "source": [
    "remote_mode = clean_df['RemoteWork'].mode()[0]\n",
    "\n",
    "clean_df['RemoteWork'] = clean_df['RemoteWork'].fillna(remote_mode)"
   ]
  },
  {
   "cell_type": "code",
   "execution_count": 32,
   "id": "0672747e",
   "metadata": {},
   "outputs": [],
   "source": [
    "clean_df['YearsCode'] = clean_df['YearsCode'].replace({\n",
    "    'Less than 1 year':1,\n",
    "    'More than 50 years':50\n",
    "})"
   ]
  },
  {
   "cell_type": "code",
   "execution_count": 33,
   "id": "45511753",
   "metadata": {},
   "outputs": [],
   "source": [
    "clean_df['YearsCodePro'] = clean_df['YearsCodePro'].replace({\n",
    "    'Less than 1 year':1,\n",
    "    'More than 50 years':50\n",
    "})"
   ]
  },
  {
   "cell_type": "code",
   "execution_count": 34,
   "id": "50a0d1cd",
   "metadata": {},
   "outputs": [],
   "source": [
    "clean_df['YearsCode'] = pd.to_numeric(clean_df['YearsCode'], errors='coerce')"
   ]
  },
  {
   "cell_type": "code",
   "execution_count": 35,
   "id": "bde4b885",
   "metadata": {},
   "outputs": [],
   "source": [
    "yc_median = clean_df['YearsCode'].median()\n",
    "clean_df['YearsCode'] = clean_df['YearsCode'].fillna(yc_median)"
   ]
  },
  {
   "cell_type": "code",
   "execution_count": 36,
   "id": "4468d39a",
   "metadata": {},
   "outputs": [
    {
     "data": {
      "text/plain": [
       "np.int64(12497)"
      ]
     },
     "execution_count": 36,
     "metadata": {},
     "output_type": "execute_result"
    }
   ],
   "source": [
    "clean_df['YearsCodePro'].isna().sum()"
   ]
  },
  {
   "cell_type": "code",
   "execution_count": 37,
   "id": "e378f673",
   "metadata": {},
   "outputs": [],
   "source": [
    "clean_df['YearsCodePro'] = pd.to_numeric(clean_df['YearsCodePro'], errors='coerce')"
   ]
  },
  {
   "cell_type": "markdown",
   "id": "1017c9f0-7740-4e45-b116-45dc6ba6824f",
   "metadata": {},
   "source": [
    "Vlerat qe mungojne ne YearsCodePro i zevendesojme me medianen e tyre.\n",
    "Te Purchase Influence shnderrojme te dhenat ne te dhena me te lexueshme, pasi kemi mbushur te dhenat qe mungojne me metoden ffill. Kjo metode mbush te dhenat ne dataset me vleren e rreshtit te radhes qe nuk mungon."
   ]
  },
  {
   "cell_type": "code",
   "execution_count": 38,
   "id": "52c5d7c9",
   "metadata": {},
   "outputs": [],
   "source": [
    "ycp_median = clean_df['YearsCodePro'].median()\n",
    "clean_df['YearsCodePro'] = clean_df['YearsCodePro'].fillna(ycp_median)"
   ]
  },
  {
   "cell_type": "code",
   "execution_count": 39,
   "id": "a6944b6f",
   "metadata": {},
   "outputs": [
    {
     "data": {
      "text/plain": [
       "array(['I have a great deal of influence', 'I have some influence',\n",
       "       'I have little or no influence', nan], dtype=object)"
      ]
     },
     "execution_count": 39,
     "metadata": {},
     "output_type": "execute_result"
    }
   ],
   "source": [
    "clean_df['PurchaseInfluence'].unique()"
   ]
  },
  {
   "cell_type": "code",
   "execution_count": 40,
   "id": "cab0418f",
   "metadata": {},
   "outputs": [
    {
     "data": {
      "text/plain": [
       "np.int64(13279)"
      ]
     },
     "execution_count": 40,
     "metadata": {},
     "output_type": "execute_result"
    }
   ],
   "source": [
    "clean_df['PurchaseInfluence'].isna().sum()"
   ]
  },
  {
   "cell_type": "code",
   "execution_count": 41,
   "id": "559c2ce9",
   "metadata": {},
   "outputs": [
    {
     "name": "stderr",
     "output_type": "stream",
     "text": [
      "C:\\Users\\redon\\AppData\\Local\\Temp\\ipykernel_10484\\2067901121.py:1: FutureWarning: Series.fillna with 'method' is deprecated and will raise in a future version. Use obj.ffill() or obj.bfill() instead.\n",
      "  clean_df['PurchaseInfluence'] = clean_df['PurchaseInfluence'].fillna(method='ffill')\n"
     ]
    }
   ],
   "source": [
    "clean_df['PurchaseInfluence'] = clean_df['PurchaseInfluence'].fillna(method='ffill')"
   ]
  },
  {
   "cell_type": "code",
   "execution_count": 42,
   "id": "03fa2eaf",
   "metadata": {},
   "outputs": [],
   "source": [
    "clean_df['PurchaseInfluence'] = clean_df['PurchaseInfluence'].replace({\n",
    "    'I have little or no influence':'High Influence',\n",
    "    'I have some influence':'Moderate Influence',\n",
    "    'I have a great deal of influence':'Low Influence'\n",
    "})"
   ]
  },
  {
   "cell_type": "markdown",
   "id": "7e49847a-fce0-4346-9644-87e98654f33c",
   "metadata": {},
   "source": [
    "Me heret te kolona Employment patem rast kur kolona permbante vlera te cilat kishin strukturen e listes por ishin String, te ndara me ;.\n",
    "\n",
    "Kolonen Employment e shnderruam ne liste para se te shnderronim secilen vlere te saj ne kolona perkatese me vlera 0 dhe 1. Per kolona tjera nuk kemi nevoje qe te kemi kolona te veqanta per secilen, mirepo eshte me mire qe t'i organizojme si lista dhe jo stringje.\n",
    "\n",
    "Pasi kemi identifikuar te gjitha kolonat qe kane kete format, brenda nje for loop i shnderrojme te gjitha ato ne format te listes."
   ]
  },
  {
   "cell_type": "code",
   "execution_count": 43,
   "id": "75ef019e",
   "metadata": {},
   "outputs": [],
   "source": [
    "cols = [\n",
    "    'CodingActivities','LearnCode','LearnCodeOnline',\n",
    "    'BuyNewTool','LanguageHaveWorkedWith','LanguageWantToWorkWith',\n",
    "    'DatabaseHaveWorkedWith','DatabaseWantToWorkWith','PlatformHaveWorkedWith',\n",
    "    'PlatformWantToWorkWith','WebframeHaveWorkedWith','WebframeWantToWorkWith',\n",
    "    'MiscTechHaveWorkedWith','MiscTechWantToWorkWith','ToolsTechHaveWorkedWith',\n",
    "    'ToolsTechWantToWorkWith','NEWCollabToolsHaveWorkedWith','NEWCollabToolsWantToWorkWith',\n",
    "    'OpSysPersonal use','OpSysProfessional use','OfficeStackAsyncHaveWorkedWith',\n",
    "    'OfficeStackAsyncWantToWorkWith','OfficeStackSyncHaveWorkedWith','OfficeStackSyncWantToWorkWith',\n",
    "    'AISearchHaveWorkedWith','AISearchWantToWorkWith','NEWSOSites', 'ProfessionalTech'\n",
    "]\n",
    "\n",
    "for col in cols:\n",
    "    clean_df[col] = df[col].fillna('').apply(\n",
    "        lambda x: [item.strip() for item in x.split(';') if item.strip()]\n",
    "    )"
   ]
  },
  {
   "cell_type": "code",
   "execution_count": 44,
   "id": "d6d33f51",
   "metadata": {},
   "outputs": [
    {
     "name": "stdout",
     "output_type": "stream",
     "text": [
      "<class 'pandas.core.frame.DataFrame'>\n",
      "Index: 74706 entries, 1 to 89183\n",
      "Data columns (total 78 columns):\n",
      " #   Column                                                Non-Null Count  Dtype   \n",
      "---  ------                                                --------------  -----   \n",
      " 0   ResponseId                                            74706 non-null  int64   \n",
      " 1   MainBranch                                            74706 non-null  category\n",
      " 2   Age                                                   74706 non-null  object  \n",
      " 3   RemoteWork                                            74706 non-null  object  \n",
      " 4   CodingActivities                                      74706 non-null  object  \n",
      " 5   EdLevel                                               74706 non-null  object  \n",
      " 6   LearnCode                                             74706 non-null  object  \n",
      " 7   LearnCodeOnline                                       74706 non-null  object  \n",
      " 8   YearsCode                                             74706 non-null  float64 \n",
      " 9   YearsCodePro                                          74706 non-null  float64 \n",
      " 10  DevType                                               70082 non-null  object  \n",
      " 11  OrgSize                                               61471 non-null  object  \n",
      " 12  PurchaseInfluence                                     74706 non-null  object  \n",
      " 13  TechList                                              51776 non-null  object  \n",
      " 14  BuyNewTool                                            74706 non-null  object  \n",
      " 15  Country                                               74706 non-null  object  \n",
      " 16  Currency                                              61569 non-null  object  \n",
      " 17  CompTotal                                             46778 non-null  float64 \n",
      " 18  LanguageHaveWorkedWith                                74706 non-null  object  \n",
      " 19  LanguageWantToWorkWith                                74706 non-null  object  \n",
      " 20  DatabaseHaveWorkedWith                                74706 non-null  object  \n",
      " 21  DatabaseWantToWorkWith                                74706 non-null  object  \n",
      " 22  PlatformHaveWorkedWith                                74706 non-null  object  \n",
      " 23  PlatformWantToWorkWith                                74706 non-null  object  \n",
      " 24  WebframeHaveWorkedWith                                74706 non-null  object  \n",
      " 25  WebframeWantToWorkWith                                74706 non-null  object  \n",
      " 26  MiscTechHaveWorkedWith                                74706 non-null  object  \n",
      " 27  MiscTechWantToWorkWith                                74706 non-null  object  \n",
      " 28  ToolsTechHaveWorkedWith                               74706 non-null  object  \n",
      " 29  ToolsTechWantToWorkWith                               74706 non-null  object  \n",
      " 30  NEWCollabToolsHaveWorkedWith                          74706 non-null  object  \n",
      " 31  NEWCollabToolsWantToWorkWith                          74706 non-null  object  \n",
      " 32  OpSysPersonal use                                     74706 non-null  object  \n",
      " 33  OpSysProfessional use                                 74706 non-null  object  \n",
      " 34  OfficeStackAsyncHaveWorkedWith                        74706 non-null  object  \n",
      " 35  OfficeStackAsyncWantToWorkWith                        74706 non-null  object  \n",
      " 36  OfficeStackSyncHaveWorkedWith                         74706 non-null  object  \n",
      " 37  OfficeStackSyncWantToWorkWith                         74706 non-null  object  \n",
      " 38  AISearchHaveWorkedWith                                74706 non-null  object  \n",
      " 39  AISearchWantToWorkWith                                74706 non-null  object  \n",
      " 40  NEWSOSites                                            74706 non-null  object  \n",
      " 41  SOVisitFreq                                           74338 non-null  object  \n",
      " 42  SOAccount                                             74676 non-null  object  \n",
      " 43  SOPartFreq                                            58253 non-null  object  \n",
      " 44  SOComm                                                74603 non-null  object  \n",
      " 45  SOAI                                                  42270 non-null  object  \n",
      " 46  AISelect                                              74706 non-null  object  \n",
      " 47  AISent                                                55476 non-null  object  \n",
      " 48  AIBen                                                 55438 non-null  object  \n",
      " 49  TBranch                                               62093 non-null  object  \n",
      " 50  ICorPM                                                43471 non-null  object  \n",
      " 51  WorkExp                                               43387 non-null  float64 \n",
      " 52  Knowledge_1                                           42493 non-null  object  \n",
      " 53  Knowledge_2                                           41646 non-null  object  \n",
      " 54  Knowledge_3                                           41775 non-null  object  \n",
      " 55  Knowledge_4                                           41667 non-null  object  \n",
      " 56  Knowledge_5                                           41512 non-null  object  \n",
      " 57  Knowledge_6                                           41506 non-null  object  \n",
      " 58  Knowledge_7                                           41453 non-null  object  \n",
      " 59  Knowledge_8                                           41392 non-null  object  \n",
      " 60  Frequency_1                                           41891 non-null  object  \n",
      " 61  Frequency_2                                           41903 non-null  object  \n",
      " 62  Frequency_3                                           41038 non-null  object  \n",
      " 63  TimeSearching                                         42711 non-null  object  \n",
      " 64  TimeAnswering                                         42581 non-null  object  \n",
      " 65  ProfessionalTech                                      74706 non-null  object  \n",
      " 66  SurveyLength                                          73814 non-null  object  \n",
      " 67  SurveyEase                                            73870 non-null  object  \n",
      " 68  ConvertedCompYearly                                   46605 non-null  float64 \n",
      " 69  Employed, full-time                                   74706 non-null  int64   \n",
      " 70  Employed, part-time                                   74706 non-null  int64   \n",
      " 71  I prefer not to say                                   74706 non-null  int64   \n",
      " 72  Independent contractor, freelancer, or self-employed  74706 non-null  int64   \n",
      " 73  Not employed, and not looking for work                74706 non-null  int64   \n",
      " 74  Not employed, but looking for work                    74706 non-null  int64   \n",
      " 75  Retired                                               74706 non-null  int64   \n",
      " 76  Student, full-time                                    74706 non-null  int64   \n",
      " 77  Student, part-time                                    74706 non-null  int64   \n",
      "dtypes: category(1), float64(5), int64(10), object(62)\n",
      "memory usage: 44.5+ MB\n"
     ]
    }
   ],
   "source": [
    "clean_df.info()"
   ]
  },
  {
   "cell_type": "markdown",
   "id": "47c58d78-1b23-49d2-b9bb-0a5c2ec522bf",
   "metadata": {},
   "source": [
    "Mbushim vlerat qe mungojne ne DevType dhe OrgSize"
   ]
  },
  {
   "cell_type": "code",
   "execution_count": 45,
   "id": "3296a436",
   "metadata": {},
   "outputs": [
    {
     "data": {
      "text/plain": [
       "array(['Senior Executive (C-Suite, VP, etc.)', 'Developer, back-end',\n",
       "       'Developer, front-end', 'Developer, full-stack',\n",
       "       'System administrator',\n",
       "       'Developer, desktop or enterprise applications',\n",
       "       'Developer, QA or test', 'Designer',\n",
       "       'Data scientist or machine learning specialist',\n",
       "       'Data or business analyst', 'Security professional',\n",
       "       'Research & Development role', nan, 'Developer, mobile',\n",
       "       'Developer, embedded applications or devices', 'Engineer, data',\n",
       "       'Product manager', 'Academic researcher',\n",
       "       'Developer, game or graphics', 'Cloud infrastructure engineer',\n",
       "       'Database administrator', 'Engineering manager', 'Student',\n",
       "       'Other (please specify):', 'Developer Experience',\n",
       "       'Project manager', 'DevOps specialist',\n",
       "       'Engineer, site reliability', 'Blockchain', 'Developer Advocate',\n",
       "       'Educator', 'Scientist', 'Hardware Engineer',\n",
       "       'Marketing or sales professional'], dtype=object)"
      ]
     },
     "execution_count": 45,
     "metadata": {},
     "output_type": "execute_result"
    }
   ],
   "source": [
    "clean_df['DevType'].unique()"
   ]
  },
  {
   "cell_type": "code",
   "execution_count": 46,
   "id": "7486b2e7",
   "metadata": {},
   "outputs": [],
   "source": [
    "clean_df['DevType'] = clean_df['DevType'].fillna('not specified')"
   ]
  },
  {
   "cell_type": "code",
   "execution_count": 47,
   "id": "e2ff4ddb",
   "metadata": {},
   "outputs": [],
   "source": [
    "clean_df['DevType'] = clean_df['DevType'].replace({'Other (please specify)':'not specified'})"
   ]
  },
  {
   "cell_type": "code",
   "execution_count": 48,
   "id": "934c1363",
   "metadata": {},
   "outputs": [],
   "source": [
    "clean_df['DevType'] = clean_df['DevType'].astype('category')"
   ]
  },
  {
   "cell_type": "code",
   "execution_count": 49,
   "id": "58658c70",
   "metadata": {},
   "outputs": [
    {
     "data": {
      "text/plain": [
       "array(['2 to 9 employees', '5,000 to 9,999 employees',\n",
       "       '100 to 499 employees', '20 to 99 employees',\n",
       "       '1,000 to 4,999 employees', '10 to 19 employees', nan,\n",
       "       '10,000 or more employees', '500 to 999 employees',\n",
       "       'Just me - I am a freelancer, sole proprietor, etc.',\n",
       "       'I don’t know'], dtype=object)"
      ]
     },
     "execution_count": 49,
     "metadata": {},
     "output_type": "execute_result"
    }
   ],
   "source": [
    "clean_df['OrgSize'].unique()"
   ]
  },
  {
   "cell_type": "code",
   "execution_count": 50,
   "id": "ca2c8b28",
   "metadata": {},
   "outputs": [],
   "source": [
    "clean_df['OrgSize'] = clean_df['OrgSize'].fillna('I don’t know')\n",
    "clean_df['OrgSize'] = clean_df['OrgSize'].replace({\n",
    "    'I don’t know': 'unspecified'\n",
    "})"
   ]
  },
  {
   "cell_type": "code",
   "execution_count": 51,
   "id": "9f781816",
   "metadata": {},
   "outputs": [
    {
     "data": {
      "text/plain": [
       "array(['Investigate', 'Given a list', nan, 'Other'], dtype=object)"
      ]
     },
     "execution_count": 51,
     "metadata": {},
     "output_type": "execute_result"
    }
   ],
   "source": [
    "clean_df['TechList'].unique()"
   ]
  },
  {
   "cell_type": "code",
   "execution_count": 52,
   "id": "bcd65d1d",
   "metadata": {
    "scrolled": true
   },
   "outputs": [
    {
     "name": "stderr",
     "output_type": "stream",
     "text": [
      "C:\\Users\\redon\\AppData\\Local\\Temp\\ipykernel_10484\\3865342193.py:1: FutureWarning: Series.fillna with 'method' is deprecated and will raise in a future version. Use obj.ffill() or obj.bfill() instead.\n",
      "  clean_df['TechList'] = clean_df['TechList'].fillna(method='ffill')\n"
     ]
    }
   ],
   "source": [
    "clean_df['TechList'] = clean_df['TechList'].fillna(method='ffill')"
   ]
  },
  {
   "cell_type": "code",
   "execution_count": 53,
   "id": "d7d61d25",
   "metadata": {},
   "outputs": [
    {
     "data": {
      "text/plain": [
       "array(['USD\\tUnited States dollar', 'PHP\\tPhilippine peso',\n",
       "       'GBP\\tPound sterling', 'EUR European Euro', nan,\n",
       "       'AUD\\tAustralian dollar', 'SEK\\tSwedish krona',\n",
       "       'AMD\\tArmenian dram', 'ZAR\\tSouth African rand',\n",
       "       'BRL\\tBrazilian real', 'BDT\\tBangladeshi taka',\n",
       "       'CAD\\tCanadian dollar', 'CHF\\tSwiss franc',\n",
       "       'LKR\\tSri Lankan rupee', 'INR\\tIndian rupee', 'IRR\\tIranian rial',\n",
       "       'PLN\\tPolish zloty', 'RUB\\tRussian ruble', 'DKK\\tDanish krone',\n",
       "       'ILS\\tIsraeli new shekel', 'HUF\\tHungarian forint',\n",
       "       'SGD\\tSingapore dollar', 'TRY\\tTurkish lira',\n",
       "       'AED United Arab Emirates dirham', 'NOK\\tNorwegian krone',\n",
       "       'RSD\\tSerbian dinar', 'NPR\\tNepalese rupee', 'RON\\tRomanian leu',\n",
       "       'CNY\\tChinese Yuan Renminbi', 'SAR\\tSaudi Arabian riyal',\n",
       "       'KRW\\tSouth Korean won', 'VND\\tVietnamese dong',\n",
       "       'UAH\\tUkrainian hryvnia', 'DOP\\tDominican peso',\n",
       "       'UZS\\tUzbekistani som', 'ISK\\tIcelandic krona',\n",
       "       'EGP\\tEgyptian pound', 'BGN\\tBulgarian lev',\n",
       "       'PKR\\tPakistani rupee', 'IDR\\tIndonesian rupiah',\n",
       "       'GEL\\tGeorgian lari', 'XOF\\tWest African CFA franc',\n",
       "       'CZK\\tCzech koruna', 'QAR\\tQatari riyal',\n",
       "       'VES\\tVenezuelan bolivar', 'BHD\\tBahraini dinar',\n",
       "       'TJS\\tTajikistani somoni', 'TND\\tTunisian dinar',\n",
       "       'ARS\\tArgentine peso', 'COP\\tColombian peso',\n",
       "       'BTN\\tBhutanese ngultrum', 'OMR\\tOmani rial',\n",
       "       'BAM\\tBosnia and Herzegovina convertible mark',\n",
       "       'MYR\\tMalaysian ringgit', 'LBP\\tLebanese pound',\n",
       "       'ALL\\tAlbanian lek', 'NGN\\tNigerian naira', 'KES\\tKenyan shilling',\n",
       "       'AFN\\tAfghan afghani', 'MAD\\tMoroccan dirham',\n",
       "       'ETB\\tEthiopian birr', 'PYG\\tParaguayan guarani',\n",
       "       'NZD\\tNew Zealand dollar', 'ZMW Zambian kwacha',\n",
       "       'JPY\\tJapanese yen', 'GHS\\tGhanaian cedi', 'JOD\\tJordanian dinar',\n",
       "       'AZN\\tAzerbaijan manat', 'UYU\\tUruguayan peso',\n",
       "       'PEN\\tPeruvian sol', 'KZT\\tKazakhstani tenge',\n",
       "       'TTD\\tTrinidad and Tobago dollar', 'HKD\\tHong Kong dollar',\n",
       "       'THB\\tThai baht', 'MDL\\tMoldovan leu', 'MNT\\tMongolian tugrik',\n",
       "       'MXN\\tMexican peso', 'BYN\\tBelarusian ruble', 'CLP\\tChilean peso',\n",
       "       'CUP\\tCuban peso', 'UGX\\tUgandan shilling', 'DZD\\tAlgerian dinar',\n",
       "       'JMD\\tJamaican dollar', 'MKD\\tMacedonian denar',\n",
       "       'CRC\\tCosta Rican colon', 'BOB\\tBolivian boliviano',\n",
       "       'HNL\\tHonduran lempira', 'YER\\tYemeni rial', 'IQD\\tIraqi dinar',\n",
       "       'RWF\\tRwandan franc', 'MWK\\tMalawian kwacha',\n",
       "       'GTQ\\tGuatemalan quetzal', 'SZL\\tSwazi lilangeni',\n",
       "       'KGS\\tKyrgyzstani som', 'AWG\\tAruban florin',\n",
       "       'NIO\\tNicaraguan cordoba', 'TWD\\tNew Taiwan dollar',\n",
       "       'FJD\\tFijian dollar', 'MUR\\tMauritian rupee',\n",
       "       'MVR\\tMaldivian rufiyaa', 'KWD\\tKuwaiti dinar',\n",
       "       'MMK\\tMyanmar kyat', 'BZD\\tBelize dollar', 'BND\\tBrunei dollar',\n",
       "       'TOP\\tTongan pa’anga', 'TMT\\tTurkmen manat', 'LYD\\tLibyan dinar',\n",
       "       'SYP\\tSyrian pound', 'KHR\\tCambodian riel', 'MGA\\tMalagasy ariary',\n",
       "       'TZS\\tTanzanian shilling', 'GIP\\tGibraltar pound',\n",
       "       'XAF\\tCentral African CFA franc', 'MZN\\tMozambican metical',\n",
       "       'LRD\\tLiberian dollar', 'CDF\\tCongolese franc', 'LAK\\tLao kip',\n",
       "       'ERN\\tEritrean nakfa', 'MRU\\tMauritanian ouguiya',\n",
       "       'ANG Netherlands Antillean guilder', 'MOP\\tMacanese pataca',\n",
       "       'KYD\\tCayman Islands dollar', 'FKP\\tFalkland Islands pound',\n",
       "       'GYD\\tGuyanese dollar', 'AOA\\tAngolan kwanza',\n",
       "       'SLL\\tSierra Leonean leone', 'XPF\\tCFP franc',\n",
       "       'HRK\\tCroatian kuna', 'SOS\\tSomali shilling',\n",
       "       'XCD\\tEast Caribbean dollar', 'LSL\\tLesotho loti',\n",
       "       'BBD\\tBarbadian dollar', 'IMP\\tManx pound',\n",
       "       'DJF\\tDjiboutian franc', 'BIF\\tBurundi franc',\n",
       "       'NAD\\tNamibian dollar', 'BWP\\tBotswana pula',\n",
       "       'SDG\\tSudanese pound', 'JEP\\tJersey pound',\n",
       "       'SRD\\tSurinamese dollar', 'CVE\\tCape Verdean escudo',\n",
       "       'SSP\\tSouth Sudanese pound'], dtype=object)"
      ]
     },
     "execution_count": 53,
     "metadata": {},
     "output_type": "execute_result"
    }
   ],
   "source": [
    "clean_df['Currency'].unique()"
   ]
  },
  {
   "cell_type": "markdown",
   "id": "e42b7a46-b2c1-4813-b33f-e81319d433b5",
   "metadata": {},
   "source": [
    "Te Currency na mungojne nje numer i vlerave, mirepo kemi te gjitha vlerat e Countries te mbushura. Nga countries mund te fitojme Currency per cdo kolone.\n",
    "\n",
    "Kete e bejme duke krijuar nje dictionary country_to_currency ku cdo country eshte mapped me vleren perkatese te monedhes se saj."
   ]
  },
  {
   "cell_type": "code",
   "execution_count": 54,
   "id": "00c89c33",
   "metadata": {},
   "outputs": [],
   "source": [
    "country_to_currency = {\n",
    "    'United States of America': 'USD',\n",
    "    'Philippines': 'PHP',\n",
    "    'United Kingdom of Great Britain and Northern Ireland': 'GBP',\n",
    "    'Finland': 'EUR',\n",
    "    'India': 'INR',\n",
    "    'Australia': 'AUD',\n",
    "    'Netherlands': 'EUR',\n",
    "    'Germany': 'EUR',\n",
    "    'Sweden': 'SEK',\n",
    "    'France': 'EUR',\n",
    "    'Albania': 'ALL',\n",
    "    'Nigeria': 'NGN',\n",
    "    'Spain': 'EUR',\n",
    "    'South Africa': 'ZAR',\n",
    "    'Belgium': 'EUR',\n",
    "    'Italy': 'EUR',\n",
    "    'Brazil': 'BRL',\n",
    "    'Portugal': 'EUR',\n",
    "    'Bangladesh': 'BDT',\n",
    "    'Canada': 'CAD',\n",
    "    'Argentina': 'ARS',\n",
    "    'Switzerland': 'CHF',\n",
    "    'Sri Lanka': 'LKR',\n",
    "    'Lithuania': 'EUR',\n",
    "    'Serbia': 'RSD',\n",
    "    'Cyprus': 'EUR',\n",
    "    'China': 'CNY',\n",
    "    'Bahrain': 'BHD',\n",
    "    'Iran, Islamic Republic of...': 'IRR',\n",
    "    'Egypt': 'EGP',\n",
    "    'Poland': 'PLN',\n",
    "    'Russian Federation': 'RUB',\n",
    "    'Slovakia': 'EUR',\n",
    "    'Latvia': 'EUR',\n",
    "    'Greece': 'EUR',\n",
    "    'Austria': 'EUR',\n",
    "    'Denmark': 'DKK',\n",
    "    'Israel': 'ILS',\n",
    "    'Norway': 'NOK',\n",
    "    'Hungary': 'HUF',\n",
    "    'Singapore': 'SGD',\n",
    "    'Turkey': 'TRY',\n",
    "    'United Arab Emirates': 'AED',\n",
    "    'Kosovo': 'EUR',\n",
    "    'Nepal': 'NPR',\n",
    "    'Slovenia': 'EUR',\n",
    "    'Romania': 'RON',\n",
    "    'Croatia': 'EUR',\n",
    "    'Lebanon': 'LBP',\n",
    "    'Luxembourg': 'EUR',\n",
    "    'Indonesia': 'IDR',\n",
    "    'Republic of Korea': 'KRW',\n",
    "    'Viet Nam': 'VND',\n",
    "    'Ukraine': 'UAH',\n",
    "    'Kenya': 'KES',\n",
    "    'Dominican Republic': 'DOP',\n",
    "    'Uzbekistan': 'UZS',\n",
    "    'Belarus': 'BYN',\n",
    "    'Estonia': 'EUR',\n",
    "    'Morocco': 'MAD',\n",
    "    'Bulgaria': 'BGN',\n",
    "    'Pakistan': 'PKR',\n",
    "    'Georgia': 'GEL',\n",
    "    'Ireland': 'EUR',\n",
    "    'Czech Republic': 'CZK',\n",
    "    'Qatar': 'QAR',\n",
    "    'Japan': 'JPY',\n",
    "    'Venezuela, Bolivarian Republic of...': 'VES',\n",
    "    'Tajikistan': 'TJS',\n",
    "    'Tunisia': 'TND',\n",
    "    'Malta': 'EUR',\n",
    "    'Colombia': 'COP',\n",
    "    'Bhutan': 'BTN',\n",
    "    'Taiwan': 'TWD',\n",
    "    'Armenia': 'AMD',\n",
    "    'Oman': 'OMR',\n",
    "    'El Salvador': 'USD',\n",
    "    'Cuba': 'CUP',\n",
    "    'Cambodia': 'KHR',\n",
    "    'Montenegro': 'EUR',\n",
    "    'Bosnia and Herzegovina': 'BAM',\n",
    "    'Zimbabwe': 'ZWL',\n",
    "    'South Korea': 'KRW',\n",
    "    'Malaysia': 'MYR',\n",
    "    'Saudi Arabia': 'SAR',\n",
    "    'Hong Kong (S.A.R.)': 'HKD',\n",
    "    'Peru': 'PEN',\n",
    "    'Azerbaijan': 'AZN',\n",
    "    'Afghanistan': 'AFN',\n",
    "    'Djibouti': 'DJF',\n",
    "    'Ethiopia': 'ETB',\n",
    "    'Paraguay': 'PYG',\n",
    "    'New Zealand': 'NZD',\n",
    "    'Panama': 'PAB',\n",
    "    'Zambia': 'ZMW',\n",
    "    'Congo, Republic of the...': 'XAF',\n",
    "    'Kyrgyzstan': 'KGS',\n",
    "    'Ghana': 'GHS',\n",
    "    'Andorra': 'EUR',\n",
    "    'Nicaragua': 'NIO',\n",
    "    'Jordan': 'JOD',\n",
    "    'Uruguay': 'UYU',\n",
    "    'Kazakhstan': 'KZT',\n",
    "    'Iceland': 'ISK',\n",
    "    'Trinidad and Tobago': 'TTD',\n",
    "    'Thailand': 'THB',\n",
    "    'Ecuador': 'USD',\n",
    "    'Uganda': 'UGX',\n",
    "    'The former Yugoslav Republic of Macedonia': 'MKD',\n",
    "    'Mexico': 'MXN',\n",
    "    'Republic of Moldova': 'MDL',\n",
    "    'Guatemala': 'GTQ',\n",
    "    'Mongolia': 'MNT',\n",
    "    'Chile': 'CLP',\n",
    "    'United Republic of Tanzania': 'TZS',\n",
    "    'Algeria': 'DZD',\n",
    "    'Belize': 'BZD',\n",
    "    'Swaziland': 'SZL',\n",
    "    'Syrian Arab Republic': 'SYP',\n",
    "    'Somalia': 'SOS',\n",
    "    'Jamaica': 'JMD',\n",
    "    \"Côte d'Ivoire\": 'XOF',\n",
    "    'Myanmar': 'MMK',\n",
    "    'Bolivia': 'BOB',\n",
    "    'Costa Rica': 'CRC',\n",
    "    'Honduras': 'HNL',\n",
    "    'Yemen': 'YER',\n",
    "    'Iraq': 'IQD',\n",
    "    'Palestine': 'ILS',\n",
    "    \"Lao People's Democratic Republic\": 'LAK',\n",
    "    'Rwanda': 'RWF',\n",
    "    'Malawi': 'MWK',\n",
    "    'Sierra Leone': 'SLL',\n",
    "    'Fiji': 'FJD',\n",
    "    'Mauritius': 'MUR',\n",
    "    'Maldives': 'MVR',\n",
    "    'Barbados': 'BBD',\n",
    "    'Kuwait': 'KWD',\n",
    "    'Brunei Darussalam': 'BND',\n",
    "    'Palau': 'USD',\n",
    "    'Turkmenistan': 'TMT',\n",
    "    'Libyan Arab Jamahiriya': 'LYD',\n",
    "    'Madagascar': 'MGA',\n",
    "    'Cameroon': 'XAF',\n",
    "    'Mozambique': 'MZN',\n",
    "    'Gabon': 'XAF',\n",
    "    'Democratic Republic of the Congo': 'CDF',\n",
    "    'Senegal': 'XOF',\n",
    "    'Mali': 'XOF',\n",
    "    'Burkina Faso': 'XOF',\n",
    "    'Guinea-Bissau': 'XOF',\n",
    "    'Botswana': 'BWP',\n",
    "    'Liberia': 'LRD',\n",
    "    'Angola': 'AOA',\n",
    "    'Mauritania': 'MRU',\n",
    "    'Timor-Leste': 'USD',\n",
    "    'Antigua and Barbuda': 'XCD',\n",
    "    'Grenada': 'XCD',\n",
    "    'Togo': 'XOF',\n",
    "    \"Democratic People's Republic of Korea\": 'KPW',\n",
    "    'Dominica': 'XCD',\n",
    "    'Guyana': 'GYD',\n",
    "    'Namibia': 'NAD',\n",
    "    'Sudan': 'SDG',\n",
    "    'Saint Lucia': 'XCD',\n",
    "    'Haiti': 'HTG',\n",
    "    'Monaco': 'EUR',\n",
    "    'Lesotho': 'LSL',\n",
    "    'Niger': 'XOF',\n",
    "    'Liechtenstein': 'CHF',\n",
    "    'Burundi': 'BIF',\n",
    "    'Saint Kitts and Nevis': 'XCD',\n",
    "    'Samoa': 'WST',\n",
    "    'Suriname': 'SRD',\n",
    "    'Central African Republic': 'XAF',\n",
    "    'Cape Verde': 'CVE',\n",
    "    'San Marino': 'EUR',\n",
    "    'North Korea': 'KPW',\n",
    "    'Guinea': 'GNF',\n",
    "    'Saint Vincent and the Grenadines': 'XCD',\n",
    "    'Nomadic': 'USD',\n",
    "    'Benin':'XOF'\n",
    "}"
   ]
  },
  {
   "cell_type": "markdown",
   "id": "67ad70d2-5992-4d97-8d33-1d57cb9508d8",
   "metadata": {},
   "source": [
    "Pasi kemi bere map te cdo shteti me vleren monetare te saj mbushim vlerat qe mungojne ne kolonen currency sipas vleres qe ka rreshti perkates ne kolonen Country. \n",
    "\n",
    "Problemi me kete eshte qe format ne listen tone qe bente map shtetet eshte ndryshe me formatin ne dataset.\n",
    "\n",
    "Kete e permiresojme duke zevendesuar vlerat qe vijne pas \\t me ''. Pra i fshijme.\n",
    "Keshtu ne kolonen currency mbesin vetem kodet e vlerave monetare dhe jo edhe emertimet e tyre sic i kishim paraprakisht ne dataset.\n",
    "Kete e bejme qe kolona Currency te jete me uniforme per nga lloji i vlerave."
   ]
  },
  {
   "cell_type": "code",
   "execution_count": 55,
   "id": "dbb30db8",
   "metadata": {},
   "outputs": [],
   "source": [
    "clean_df['Currency'] = clean_df['Currency'].fillna(\n",
    "    clean_df['Country'].map(country_to_currency)\n",
    ")"
   ]
  },
  {
   "cell_type": "code",
   "execution_count": 56,
   "id": "a4592dd5-9c36-456d-ac5d-a43c6bec930f",
   "metadata": {},
   "outputs": [
    {
     "data": {
      "text/plain": [
       "array(['USD\\tUnited States dollar', 'PHP\\tPhilippine peso',\n",
       "       'GBP\\tPound sterling', 'EUR European Euro', 'INR',\n",
       "       'AUD\\tAustralian dollar', 'SEK\\tSwedish krona',\n",
       "       'AMD\\tArmenian dram', 'ZAR\\tSouth African rand',\n",
       "       'BRL\\tBrazilian real', 'BDT\\tBangladeshi taka',\n",
       "       'CAD\\tCanadian dollar', 'SEK', 'CHF\\tSwiss franc', 'AUD',\n",
       "       'LKR\\tSri Lankan rupee', 'INR\\tIndian rupee', 'CNY', 'EUR', 'BHD',\n",
       "       'IRR\\tIranian rial', 'PLN\\tPolish zloty', 'RUB\\tRussian ruble',\n",
       "       'DKK\\tDanish krone', 'BRL', 'ILS\\tIsraeli new shekel',\n",
       "       'HUF\\tHungarian forint', 'CAD', 'SGD\\tSingapore dollar',\n",
       "       'TRY\\tTurkish lira', 'AED United Arab Emirates dirham',\n",
       "       'NOK\\tNorwegian krone', 'RSD\\tSerbian dinar',\n",
       "       'NPR\\tNepalese rupee', 'HUF', 'RON\\tRomanian leu', 'LBP',\n",
       "       'CNY\\tChinese Yuan Renminbi', 'SAR\\tSaudi Arabian riyal', 'PLN',\n",
       "       'IDR', 'GBP', 'KRW\\tSouth Korean won', 'VND\\tVietnamese dong',\n",
       "       'LKR', 'UAH\\tUkrainian hryvnia', 'DKK', 'RUB', 'KES', 'EGP',\n",
       "       'DOP\\tDominican peso', 'UZS\\tUzbekistani som',\n",
       "       'ISK\\tIcelandic krona', 'EGP\\tEgyptian pound',\n",
       "       'BGN\\tBulgarian lev', 'PKR\\tPakistani rupee', 'GEL',\n",
       "       'IDR\\tIndonesian rupiah', 'GEL\\tGeorgian lari', 'USD',\n",
       "       'XOF\\tWest African CFA franc', 'CZK\\tCzech koruna',\n",
       "       'QAR\\tQatari riyal', 'VES\\tVenezuelan bolivar', 'IRR',\n",
       "       'BHD\\tBahraini dinar', 'TJS\\tTajikistani somoni',\n",
       "       'TND\\tTunisian dinar', 'PHP', 'ARS\\tArgentine peso',\n",
       "       'COP\\tColombian peso', 'BTN\\tBhutanese ngultrum', 'TWD',\n",
       "       'OMR\\tOmani rial', 'NGN', 'CHF', 'CZK', 'BAM', 'BGN',\n",
       "       'BAM\\tBosnia and Herzegovina convertible mark', 'TRY',\n",
       "       'MYR\\tMalaysian ringgit', 'HKD', 'PEN', 'LBP\\tLebanese pound',\n",
       "       'ALL\\tAlbanian lek', 'AZN', 'SGD', 'NGN\\tNigerian naira', 'MYR',\n",
       "       'MAD', 'KES\\tKenyan shilling', 'VND', 'AFN\\tAfghan afghani', 'BDT',\n",
       "       'MAD\\tMoroccan dirham', 'ETB\\tEthiopian birr',\n",
       "       'PYG\\tParaguayan guarani', 'NZD\\tNew Zealand dollar', 'UAH',\n",
       "       'ZMW Zambian kwacha', 'JPY\\tJapanese yen', 'PKR', 'XAF', 'KGS',\n",
       "       'GHS\\tGhanaian cedi', 'JOD\\tJordanian dinar',\n",
       "       'AZN\\tAzerbaijan manat', 'ZAR', 'ARS', 'UYU\\tUruguayan peso',\n",
       "       'PEN\\tPeruvian sol', 'KZT\\tKazakhstani tenge', 'ILS', 'RON',\n",
       "       'TTD\\tTrinidad and Tobago dollar', 'HKD\\tHong Kong dollar',\n",
       "       'THB\\tThai baht', 'UGX', 'AFN', 'MDL\\tMoldovan leu', 'AMD',\n",
       "       'MNT\\tMongolian tugrik', 'MXN\\tMexican peso',\n",
       "       'BYN\\tBelarusian ruble', 'CLP\\tChilean peso', 'TZS',\n",
       "       'CUP\\tCuban peso', 'KRW', 'UGX\\tUgandan shilling', 'THB', 'NOK',\n",
       "       'AED', 'RSD', 'DZD\\tAlgerian dinar', 'BZD', 'SZL', 'MXN', 'CLP',\n",
       "       'OMR', 'UYU', 'JPY', 'JMD\\tJamaican dollar', 'COP',\n",
       "       'MKD\\tMacedonian denar', 'NPR', 'BOB', 'CRC\\tCosta Rican colon',\n",
       "       'CRC', 'BOB\\tBolivian boliviano', 'HNL\\tHonduran lempira',\n",
       "       'YER\\tYemeni rial', 'SAR', 'HNL', 'IQD\\tIraqi dinar', 'NZD', 'DOP',\n",
       "       'RWF\\tRwandan franc', 'GHS', 'MWK\\tMalawian kwacha',\n",
       "       'GTQ\\tGuatemalan quetzal', 'SLL', 'DZD', 'PYG', 'ZWL',\n",
       "       'SZL\\tSwazi lilangeni', 'KGS\\tKyrgyzstani som', 'VES', 'TND',\n",
       "       'AWG\\tAruban florin', 'NIO\\tNicaraguan cordoba',\n",
       "       'TWD\\tNew Taiwan dollar', 'FJD\\tFijian dollar', 'KHR',\n",
       "       'MUR\\tMauritian rupee', 'MVR\\tMaldivian rufiyaa', 'IQD',\n",
       "       'KWD\\tKuwaiti dinar', 'QAR', 'MMK\\tMyanmar kyat',\n",
       "       'BZD\\tBelize dollar', 'BND\\tBrunei dollar', 'KZT',\n",
       "       'TOP\\tTongan pa’anga', 'TMT\\tTurkmen manat', 'ETB', 'MVR',\n",
       "       'LYD\\tLibyan dinar', 'SYP\\tSyrian pound', 'MWK', 'MDL', 'MGA',\n",
       "       'MKD', 'KHR\\tCambodian riel', 'JOD', 'ZMW', 'ALL',\n",
       "       'MGA\\tMalagasy ariary', 'TZS\\tTanzanian shilling',\n",
       "       'GIP\\tGibraltar pound', 'BYN', 'RWF',\n",
       "       'XAF\\tCentral African CFA franc', 'XOF', 'MZN\\tMozambican metical',\n",
       "       'CDF', 'BWP', 'LRD\\tLiberian dollar', 'CDF\\tCongolese franc',\n",
       "       'MRU', 'LAK\\tLao kip', 'ERN\\tEritrean nakfa',\n",
       "       'MRU\\tMauritanian ouguiya', 'ANG Netherlands Antillean guilder',\n",
       "       'MOP\\tMacanese pataca', 'LYD', 'KYD\\tCayman Islands dollar', 'MMK',\n",
       "       'XCD', 'YER', 'AOA', 'FKP\\tFalkland Islands pound', 'UZS', 'MZN',\n",
       "       'GYD\\tGuyanese dollar', 'AOA\\tAngolan kwanza',\n",
       "       'SLL\\tSierra Leonean leone', 'NIO', 'ISK', 'TTD', 'JMD',\n",
       "       'XPF\\tCFP franc', 'HRK\\tCroatian kuna', 'SDG', 'GTQ',\n",
       "       'SOS\\tSomali shilling', 'XCD\\tEast Caribbean dollar', 'TMT', 'HTG',\n",
       "       'SOS', 'LSL\\tLesotho loti', 'SYP', 'LRD', 'BBD\\tBarbadian dollar',\n",
       "       'IMP\\tManx pound', 'DJF\\tDjiboutian franc', 'BIF\\tBurundi franc',\n",
       "       'NAD\\tNamibian dollar', 'BWP\\tBotswana pula', 'TJS',\n",
       "       'SDG\\tSudanese pound', 'PAB', 'KWD', 'FJD', 'MUR',\n",
       "       'JEP\\tJersey pound', 'MNT', 'BND', 'WST', 'CUP',\n",
       "       'SRD\\tSurinamese dollar', 'LSL', 'NAD', 'BTN',\n",
       "       'CVE\\tCape Verdean escudo', 'KPW', 'GYD',\n",
       "       'SSP\\tSouth Sudanese pound'], dtype=object)"
      ]
     },
     "execution_count": 56,
     "metadata": {},
     "output_type": "execute_result"
    }
   ],
   "source": [
    "clean_df['Currency'].unique()"
   ]
  },
  {
   "cell_type": "code",
   "execution_count": 57,
   "id": "3ca2b118-5806-4bd9-bc1d-030099a23626",
   "metadata": {},
   "outputs": [],
   "source": [
    "import re\n",
    "\n",
    "clean_df['Currency'] = clean_df['Currency'].apply(lambda text: re.sub(r'\\t.*', '', text))"
   ]
  },
  {
   "cell_type": "code",
   "execution_count": 58,
   "id": "32b58380-c588-4087-b5b0-d6ac0949e215",
   "metadata": {},
   "outputs": [
    {
     "data": {
      "text/plain": [
       "array(['USD', 'PHP', 'GBP', 'EUR European Euro', 'INR', 'AUD', 'SEK',\n",
       "       'AMD', 'ZAR', 'BRL', 'BDT', 'CAD', 'CHF', 'LKR', 'CNY', 'EUR',\n",
       "       'BHD', 'IRR', 'PLN', 'RUB', 'DKK', 'ILS', 'HUF', 'SGD', 'TRY',\n",
       "       'AED United Arab Emirates dirham', 'NOK', 'RSD', 'NPR', 'RON',\n",
       "       'LBP', 'SAR', 'IDR', 'KRW', 'VND', 'UAH', 'KES', 'EGP', 'DOP',\n",
       "       'UZS', 'ISK', 'BGN', 'PKR', 'GEL', 'XOF', 'CZK', 'QAR', 'VES',\n",
       "       'TJS', 'TND', 'ARS', 'COP', 'BTN', 'TWD', 'OMR', 'NGN', 'BAM',\n",
       "       'MYR', 'HKD', 'PEN', 'ALL', 'AZN', 'MAD', 'AFN', 'ETB', 'PYG',\n",
       "       'NZD', 'ZMW Zambian kwacha', 'JPY', 'XAF', 'KGS', 'GHS', 'JOD',\n",
       "       'UYU', 'KZT', 'TTD', 'THB', 'UGX', 'MDL', 'MNT', 'MXN', 'BYN',\n",
       "       'CLP', 'TZS', 'CUP', 'AED', 'DZD', 'BZD', 'SZL', 'JMD', 'MKD',\n",
       "       'BOB', 'CRC', 'HNL', 'YER', 'IQD', 'RWF', 'MWK', 'GTQ', 'SLL',\n",
       "       'ZWL', 'AWG', 'NIO', 'FJD', 'KHR', 'MUR', 'MVR', 'KWD', 'MMK',\n",
       "       'BND', 'TOP', 'TMT', 'LYD', 'SYP', 'MGA', 'ZMW', 'GIP', 'MZN',\n",
       "       'CDF', 'BWP', 'LRD', 'MRU', 'LAK', 'ERN',\n",
       "       'ANG Netherlands Antillean guilder', 'MOP', 'KYD', 'XCD', 'AOA',\n",
       "       'FKP', 'GYD', 'XPF', 'HRK', 'SDG', 'SOS', 'HTG', 'LSL', 'BBD',\n",
       "       'IMP', 'DJF', 'BIF', 'NAD', 'PAB', 'JEP', 'WST', 'SRD', 'CVE',\n",
       "       'KPW', 'SSP'], dtype=object)"
      ]
     },
     "execution_count": 58,
     "metadata": {},
     "output_type": "execute_result"
    }
   ],
   "source": [
    "clean_df['Currency'].unique()"
   ]
  },
  {
   "cell_type": "code",
   "execution_count": 59,
   "id": "cd3622ac-9dc6-426a-bfde-0c17118b7fc9",
   "metadata": {},
   "outputs": [],
   "source": [
    "#Disa nga vlerat ne Currency nuk ishin te ndara me \\t, andaj zevendesojme manualisht edhe ato qe na kane mbetur\n",
    "\n",
    "clean_df['Currency'] = clean_df['Currency'].replace({\n",
    "    'EUR European Euro':'EUR',\n",
    "    'AED United Arab Emirates dirham':'AED',\n",
    "    'ZMW Zambian kwacha':'ZMW',\n",
    "    'ANG Netherlands Antillean guilder':'ANG'\n",
    "})"
   ]
  },
  {
   "cell_type": "code",
   "execution_count": 60,
   "id": "df90cc35-2246-4019-807a-6c7ee53392ca",
   "metadata": {},
   "outputs": [
    {
     "data": {
      "text/plain": [
       "array(['USD', 'PHP', 'GBP', 'EUR', 'INR', 'AUD', 'SEK', 'AMD', 'ZAR',\n",
       "       'BRL', 'BDT', 'CAD', 'CHF', 'LKR', 'CNY', 'BHD', 'IRR', 'PLN',\n",
       "       'RUB', 'DKK', 'ILS', 'HUF', 'SGD', 'TRY', 'AED', 'NOK', 'RSD',\n",
       "       'NPR', 'RON', 'LBP', 'SAR', 'IDR', 'KRW', 'VND', 'UAH', 'KES',\n",
       "       'EGP', 'DOP', 'UZS', 'ISK', 'BGN', 'PKR', 'GEL', 'XOF', 'CZK',\n",
       "       'QAR', 'VES', 'TJS', 'TND', 'ARS', 'COP', 'BTN', 'TWD', 'OMR',\n",
       "       'NGN', 'BAM', 'MYR', 'HKD', 'PEN', 'ALL', 'AZN', 'MAD', 'AFN',\n",
       "       'ETB', 'PYG', 'NZD', 'ZMW', 'JPY', 'XAF', 'KGS', 'GHS', 'JOD',\n",
       "       'UYU', 'KZT', 'TTD', 'THB', 'UGX', 'MDL', 'MNT', 'MXN', 'BYN',\n",
       "       'CLP', 'TZS', 'CUP', 'DZD', 'BZD', 'SZL', 'JMD', 'MKD', 'BOB',\n",
       "       'CRC', 'HNL', 'YER', 'IQD', 'RWF', 'MWK', 'GTQ', 'SLL', 'ZWL',\n",
       "       'AWG', 'NIO', 'FJD', 'KHR', 'MUR', 'MVR', 'KWD', 'MMK', 'BND',\n",
       "       'TOP', 'TMT', 'LYD', 'SYP', 'MGA', 'GIP', 'MZN', 'CDF', 'BWP',\n",
       "       'LRD', 'MRU', 'LAK', 'ERN', 'ANG', 'MOP', 'KYD', 'XCD', 'AOA',\n",
       "       'FKP', 'GYD', 'XPF', 'HRK', 'SDG', 'SOS', 'HTG', 'LSL', 'BBD',\n",
       "       'IMP', 'DJF', 'BIF', 'NAD', 'PAB', 'JEP', 'WST', 'SRD', 'CVE',\n",
       "       'KPW', 'SSP'], dtype=object)"
      ]
     },
     "execution_count": 60,
     "metadata": {},
     "output_type": "execute_result"
    }
   ],
   "source": [
    "clean_df['Currency'].unique()"
   ]
  },
  {
   "cell_type": "markdown",
   "id": "84fe30a9-8b93-4fab-a2ea-6ee488f98ac3",
   "metadata": {},
   "source": [
    "Vlerat qe mungojne ne CompTotal duhet ti zevedesojme. kete e bejme duke u bazuar ne medianen e pages per shtetin perkates sipas te dhenave qe i kemi ne dataset. Kete e bejme sepse ne dataset kemi edhe ConvertedCompTotal, qe do te thote se CompTotal mund te jete ndryshe sipas vlerave monetare te shteteve perkatese pra para konvertimit ne nje vlere standarde.\n",
    "\n",
    "Perdorim medianen per ti mbushur vlerat qe mungojne pasi qe ndikohet me pak nga outliers"
   ]
  },
  {
   "cell_type": "code",
   "execution_count": 61,
   "id": "0bfaa025",
   "metadata": {},
   "outputs": [],
   "source": [
    "global_median = clean_df['CompTotal'].median()\n",
    "\n",
    "clean_df['CompTotal'] = clean_df.groupby('Country')['CompTotal'].transform(\n",
    "    lambda x: x.fillna(x.median() if not x.dropna().empty else global_median)\n",
    ")"
   ]
  },
  {
   "cell_type": "code",
   "execution_count": 62,
   "id": "b98c5b6d",
   "metadata": {},
   "outputs": [
    {
     "data": {
      "text/plain": [
       "8"
      ]
     },
     "execution_count": 62,
     "metadata": {},
     "output_type": "execute_result"
    }
   ],
   "source": [
    "clean_df['EdLevel'].nunique()"
   ]
  },
  {
   "cell_type": "code",
   "execution_count": 63,
   "id": "939f2946",
   "metadata": {},
   "outputs": [],
   "source": [
    "clean_df['OrgSize'] = clean_df['OrgSize'].replace('Just me - I am a freelancer, sole proprietor, etc.', 'Only Me')"
   ]
  },
  {
   "cell_type": "code",
   "execution_count": 64,
   "id": "f0c161c2",
   "metadata": {},
   "outputs": [
    {
     "data": {
      "text/plain": [
       "np.int64(0)"
      ]
     },
     "execution_count": 64,
     "metadata": {},
     "output_type": "execute_result"
    }
   ],
   "source": [
    "clean_df['RemoteWork'].isna().sum()"
   ]
  },
  {
   "cell_type": "code",
   "execution_count": 65,
   "id": "4130aec2",
   "metadata": {},
   "outputs": [
    {
     "data": {
      "text/plain": [
       "array(['Remote', 'Hybrid (some remote, some in-person)', 'In-person'],\n",
       "      dtype=object)"
      ]
     },
     "execution_count": 65,
     "metadata": {},
     "output_type": "execute_result"
    }
   ],
   "source": [
    "clean_df['RemoteWork'].unique()"
   ]
  },
  {
   "cell_type": "code",
   "execution_count": 66,
   "id": "d138b7fb",
   "metadata": {},
   "outputs": [],
   "source": [
    "#Sipas nevojes, shnderrimi i te dhenave ne vlera kategorike\n",
    "\n",
    "age_categories = [\n",
    "    'Prefer not to say',\n",
    "    'Under 18',\n",
    "    '18-24',\n",
    "    '25-34',\n",
    "    '35-44',\n",
    "    '45-54',\n",
    "    '55-64', \n",
    "    '65 or older'\n",
    "]\n",
    "\n",
    "clean_df['Age'] = pd.Categorical(clean_df['Age'], categories=age_categories, ordered=True)\n",
    "\n",
    "\n",
    "rw_categories = [\n",
    "    'Remote',\n",
    "    'Hybrid (some remote, some in-person)',\n",
    "    'In-person'\n",
    "]\n",
    "\n",
    "clean_df['RemoteWork'] = pd.Categorical(clean_df['RemoteWork'], categories=rw_categories)\n",
    "\n",
    "\n",
    "ed_categories = [\n",
    "    'something else',\n",
    "    'primary school',\n",
    "    'secondary school',\n",
    "    'unfinished university degree',\n",
    "    'associate degree',\n",
    "    'bachelors degree',\n",
    "    'masters degree',\n",
    "    'professional degree'\n",
    "]\n",
    "\n",
    "clean_df['EdLevel'] = pd.Categorical(clean_df['EdLevel'], categories=ed_categories, ordered=True)\n",
    "\n",
    "categories = [\n",
    "    'Unknown',\n",
    "    'Only Me',\n",
    "    '2 to 9 employees',\n",
    "    '10 to 19 employees',\n",
    "    '20 to 99 employees',\n",
    "    '100 to 499 employees',\n",
    "    '500 to 999 employees',\n",
    "    '1,000 to 4,999 employees',\n",
    "    '5,000 to 9,999 employees',\n",
    "    '10,000 or more employees'\n",
    "]\n",
    "\n",
    "clean_df['OrgSize'] = clean_df['OrgSize'].fillna('Unknown')\n",
    "clean_df['OrgSize'] = pd.Categorical(clean_df['OrgSize'], categories=categories, ordered=True)\n",
    "\n",
    "pi_categories = ['Unknown', 'Low Influence', 'Moderate Influence', 'High Influence']\n",
    "\n",
    "clean_df['PurchaseInfluence'] = pd.Categorical(clean_df['PurchaseInfluence'], categories=pi_categories, ordered=True)\n",
    "\n",
    "\n",
    "sov_categories = [\n",
    "    'Unknown',\n",
    "    'Less than once per month or monthly',\n",
    "    'A few times per month or weekly',\n",
    "    'A few times per week',\n",
    "    'Daily or almost daily',\n",
    "    'Multiple times per day'\n",
    "]\n",
    "\n",
    "clean_df['SOVisitFreq'] = clean_df['SOVisitFreq'].fillna('Unknown')\n",
    "clean_df['SOVisitFreq'] = pd.Categorical(clean_df['SOVisitFreq'], categories=sov_categories, ordered=True)\n",
    "\n",
    "\n",
    "sop_categories = [\n",
    "    'Unknown',\n",
    "    'I have never participated in Q&A on Stack Overflow',\n",
    "    'Less than once per month or monthly',\n",
    "    'A few times per month or weekly',\n",
    "    'A few times per week',\n",
    "    'Daily or almost daily',\n",
    "    'Multiple times per day'\n",
    "]\n",
    "\n",
    "clean_df['SOPartFreq'] = clean_df['SOPartFreq'].fillna('Unknown')\n",
    "clean_df['SOPartFreq'] = pd.Categorical(clean_df['SOPartFreq'], categories=sov_categories, ordered=True)\n",
    "\n",
    "ai_categories = [\n",
    "    'Very unfavorable',\n",
    "    'Unfavorable',\n",
    "    'Indifferent',\n",
    "    'Favorable',\n",
    "    'Very favorable'\n",
    "]\n",
    "\n",
    "ais_mode = clean_df['AISent'].mode()[0]\n",
    "clean_df['AISent'] = clean_df['AISent'].fillna(ais_mode)\n",
    "clean_df['AISent'] = pd.Categorical(clean_df['AISent'], categories=ai_categories, ordered=True)\n",
    "\n",
    "aib_categories = [\n",
    "    'Unknown',\n",
    "    'Highly distrust',\n",
    "    'Somewhat distrust',\n",
    "    'Neither trust nor distrust',\n",
    "    'Somewhat trust',\n",
    "    'Highly trust'\n",
    "]\n",
    "\n",
    "clean_df['AIBen'] = clean_df['AIBen'].fillna('Unknown')\n",
    "clean_df['AIBen'] = pd.Categorical(clean_df['AIBen'], categories=aib_categories, ordered=True)\n",
    "\n",
    "know_categories = [\n",
    "    'Unknown',\n",
    "    'Strongly disagree',\n",
    "    'Disagree',\n",
    "    'Neither agree nor disagree',\n",
    "    'Agree', \n",
    "    'Strongly agree'\n",
    "]\n",
    "\n",
    "know_cols = ['Knowledge_1', 'Knowledge_2', 'Knowledge_3', 'Knowledge_4', 'Knowledge_5', 'Knowledge_6', 'Knowledge_7', 'Knowledge_8']\n",
    "\n",
    "for col in know_cols:\n",
    "    clean_df[col] = clean_df[col].fillna('Unknown')\n",
    "    clean_df[col] = pd.Categorical(clean_df[col], categories=know_categories, ordered=True)\n",
    "\n",
    "\n",
    "freq_categories = [\n",
    "    'Unknown',\n",
    "    'Never',\n",
    "    '1-2 times a week',\n",
    "    '3-5 times a week',\n",
    "    '6-10 times a week', \n",
    "    '10+ times a week'\n",
    "]\n",
    "\n",
    "freq_cols = ['Frequency_1', 'Frequency_2', 'Frequency_3']\n",
    "\n",
    "for col in freq_cols:\n",
    "    clean_df[col] = clean_df[col].fillna('Unknown')\n",
    "    clean_df[col] = pd.Categorical(clean_df[col], categories=freq_categories, ordered=True)\n"
   ]
  },
  {
   "cell_type": "code",
   "execution_count": 67,
   "id": "929f41cd",
   "metadata": {},
   "outputs": [],
   "source": [
    "clean_df['TimeSearching'] = clean_df['TimeSearching'].fillna('Unknown')\n",
    "\n",
    "clean_df['TimeAnswering'] = clean_df['TimeAnswering'].fillna('Unknown')"
   ]
  },
  {
   "cell_type": "code",
   "execution_count": 68,
   "id": "01bd7e14",
   "metadata": {},
   "outputs": [],
   "source": [
    "tsm_categories = [\n",
    "    'Unknown',\n",
    "    'Less than 15 minutes a day',\n",
    "    '15-30 minutes a day',\n",
    "    '30-60 minutes a day',\n",
    "    '60-120 minutes a day',\n",
    "    'Over 120 minutes a day'\n",
    "]\n",
    "\n",
    "\n",
    "clean_df['TimeSearching'] = pd.Categorical(clean_df['TimeSearching'], categories=tsm_categories, ordered=True)\n",
    "\n",
    "clean_df['TimeAnswering'] = pd.Categorical(clean_df['TimeAnswering'], categories=tsm_categories, ordered=True)"
   ]
  },
  {
   "cell_type": "code",
   "execution_count": 69,
   "id": "d10bd48f-d2ba-4f59-be98-463e3808ce33",
   "metadata": {},
   "outputs": [
    {
     "name": "stdout",
     "output_type": "stream",
     "text": [
      "0\n",
      "0\n"
     ]
    }
   ],
   "source": [
    "print(clean_df['TimeSearching'].isna().sum())\n",
    "print(clean_df['TimeAnswering'].isna().sum())"
   ]
  },
  {
   "cell_type": "markdown",
   "id": "579ababe-3c7a-4213-ab92-dfa2026c3614",
   "metadata": {},
   "source": [
    "Ne vazhdim mbushim vlerat qe mungojne ne kolona sipas nevojes"
   ]
  },
  {
   "cell_type": "code",
   "execution_count": 70,
   "id": "cea019b7",
   "metadata": {},
   "outputs": [],
   "source": [
    "soa_mode = clean_df['SOAccount'].mode()[0]\n",
    "clean_df['SOAccount'] = clean_df['SOAccount'].fillna(soa_mode)"
   ]
  },
  {
   "cell_type": "code",
   "execution_count": 71,
   "id": "d345a014",
   "metadata": {},
   "outputs": [],
   "source": [
    "clean_df['SOPartFreq'] = clean_df['SOPartFreq'].fillna('Unknown')"
   ]
  },
  {
   "cell_type": "code",
   "execution_count": 72,
   "id": "55ad0419",
   "metadata": {},
   "outputs": [],
   "source": [
    "soc_mode = clean_df['SOComm'].mode()[0]\n",
    "clean_df['SOComm'] = clean_df['SOComm'].fillna(soc_mode)"
   ]
  },
  {
   "cell_type": "code",
   "execution_count": 73,
   "id": "1d117d5b",
   "metadata": {},
   "outputs": [
    {
     "name": "stderr",
     "output_type": "stream",
     "text": [
      "C:\\Users\\redon\\AppData\\Local\\Temp\\ipykernel_10484\\3627933775.py:1: FutureWarning: Series.fillna with 'method' is deprecated and will raise in a future version. Use obj.ffill() or obj.bfill() instead.\n",
      "  clean_df['SOAI'] = clean_df['SOAI'].fillna(method='ffill')\n"
     ]
    }
   ],
   "source": [
    "clean_df['SOAI'] = clean_df['SOAI'].fillna(method='ffill')\n",
    "\n",
    "clean_df['SOAI'] = clean_df['SOAI'].astype('category')"
   ]
  },
  {
   "cell_type": "code",
   "execution_count": 74,
   "id": "f714e815",
   "metadata": {},
   "outputs": [],
   "source": [
    "ais_mode = clean_df['AISent'].mode()[0]\n",
    "clean_df['AISent'] = clean_df['AISent'].fillna(ais_mode)"
   ]
  },
  {
   "cell_type": "code",
   "execution_count": 75,
   "id": "25b564f8",
   "metadata": {},
   "outputs": [],
   "source": [
    "clean_df['TBranch'] = clean_df['TBranch'].fillna('No')"
   ]
  },
  {
   "cell_type": "markdown",
   "id": "87c40d3f-7cad-42ed-8ba8-5d80cc63c9a7",
   "metadata": {},
   "source": [
    "Te ICorPM mbushim vlerat qe mungojne ne kolona ne baze te viteve qe programojne profesionalisht.\n",
    "\n",
    "Kete e bejme per te dalluar menaxher ose kontributor individual.\n",
    "\n",
    "Supozimi eshte qe menaxheri ka me shume vite pervoje programimi profesional se kontributori individual. Nese nje pjesemarres ne dataset ka me shume vite pervoje kodimi se mesatarja e datasetit supozojme se eshte menaxher, perndryshe kontributor individual."
   ]
  },
  {
   "cell_type": "code",
   "execution_count": 76,
   "id": "0e1941ea",
   "metadata": {},
   "outputs": [
    {
     "data": {
      "text/plain": [
       "array(['People manager', 'Individual contributor', nan], dtype=object)"
      ]
     },
     "execution_count": 76,
     "metadata": {},
     "output_type": "execute_result"
    }
   ],
   "source": [
    "clean_df['ICorPM'].unique()"
   ]
  },
  {
   "cell_type": "code",
   "execution_count": 77,
   "id": "eefd9861",
   "metadata": {},
   "outputs": [],
   "source": [
    "threshold = clean_df['YearsCodePro'].mean()\n",
    "\n",
    "def impute_ICorPM(row):\n",
    "    if(pd.isna(row['ICorPM'])):\n",
    "        if row['YearsCodePro'] > threshold:\n",
    "            return 'People manager'\n",
    "        else:\n",
    "            return 'Individual contributor'\n",
    "    else:\n",
    "        return row['ICorPM']\n",
    "    \n",
    "clean_df['ICorPM'] = clean_df.apply(impute_ICorPM, axis=1)"
   ]
  },
  {
   "cell_type": "markdown",
   "id": "a9b9bc87-d41e-4d28-9417-21186a6b922a",
   "metadata": {},
   "source": [
    "Edhe per WorkExp, mbushim vlerat duke u bazuar ne medianen e personave qe kane vite te njejta eksperience te programimit profesional.\n",
    "\n",
    "Supozimi eshte qe personat qe kane vite te njejta programimi profesional kane eksperience pune mesatarisht te ngjashme."
   ]
  },
  {
   "cell_type": "code",
   "execution_count": 78,
   "id": "4ccc6e77",
   "metadata": {},
   "outputs": [
    {
     "name": "stdout",
     "output_type": "stream",
     "text": [
      "5.0\n",
      "11.41874294143407\n"
     ]
    }
   ],
   "source": [
    "print(clean_df['WorkExp'].mode()[0])\n",
    "print(clean_df['WorkExp'].mean())"
   ]
  },
  {
   "cell_type": "code",
   "execution_count": 79,
   "id": "eb5ff6d1",
   "metadata": {},
   "outputs": [],
   "source": [
    "clean_df['WorkExp'] = clean_df.groupby('YearsCodePro')['WorkExp'].transform(\n",
    "    lambda x: x.fillna(x.median())\n",
    ")"
   ]
  },
  {
   "cell_type": "code",
   "execution_count": 80,
   "id": "0cb287fe",
   "metadata": {},
   "outputs": [],
   "source": [
    "sl_mode = clean_df['SurveyLength'].mode()[0]\n",
    "se_mode = clean_df['SurveyEase'].mode()[0]\n",
    "\n",
    "clean_df['SurveyLength'] = clean_df['SurveyLength'].fillna(sl_mode)\n",
    "clean_df['SurveyEase'] = clean_df['SurveyEase'].fillna(se_mode)"
   ]
  },
  {
   "cell_type": "code",
   "execution_count": 81,
   "id": "0de15c75",
   "metadata": {},
   "outputs": [],
   "source": [
    "clean_df['OrgSize'] = clean_df['OrgSize'].fillna('Unknown')"
   ]
  },
  {
   "cell_type": "code",
   "execution_count": 82,
   "id": "4d19f773",
   "metadata": {},
   "outputs": [],
   "source": [
    "ct_median = clean_df['CompTotal'].median()\n",
    "clean_df['CompTotal'] = clean_df['CompTotal'].fillna(ct_median)"
   ]
  },
  {
   "cell_type": "code",
   "execution_count": 83,
   "id": "94d8350b",
   "metadata": {},
   "outputs": [
    {
     "name": "stdout",
     "output_type": "stream",
     "text": [
      "<class 'pandas.core.frame.DataFrame'>\n",
      "Index: 74706 entries, 1 to 89183\n",
      "Data columns (total 78 columns):\n",
      " #   Column                                                Non-Null Count  Dtype   \n",
      "---  ------                                                --------------  -----   \n",
      " 0   ResponseId                                            74706 non-null  int64   \n",
      " 1   MainBranch                                            74706 non-null  category\n",
      " 2   Age                                                   74706 non-null  category\n",
      " 3   RemoteWork                                            74706 non-null  category\n",
      " 4   CodingActivities                                      74706 non-null  object  \n",
      " 5   EdLevel                                               74706 non-null  category\n",
      " 6   LearnCode                                             74706 non-null  object  \n",
      " 7   LearnCodeOnline                                       74706 non-null  object  \n",
      " 8   YearsCode                                             74706 non-null  float64 \n",
      " 9   YearsCodePro                                          74706 non-null  float64 \n",
      " 10  DevType                                               74706 non-null  category\n",
      " 11  OrgSize                                               74706 non-null  category\n",
      " 12  PurchaseInfluence                                     74706 non-null  category\n",
      " 13  TechList                                              74706 non-null  object  \n",
      " 14  BuyNewTool                                            74706 non-null  object  \n",
      " 15  Country                                               74706 non-null  object  \n",
      " 16  Currency                                              74706 non-null  object  \n",
      " 17  CompTotal                                             74706 non-null  float64 \n",
      " 18  LanguageHaveWorkedWith                                74706 non-null  object  \n",
      " 19  LanguageWantToWorkWith                                74706 non-null  object  \n",
      " 20  DatabaseHaveWorkedWith                                74706 non-null  object  \n",
      " 21  DatabaseWantToWorkWith                                74706 non-null  object  \n",
      " 22  PlatformHaveWorkedWith                                74706 non-null  object  \n",
      " 23  PlatformWantToWorkWith                                74706 non-null  object  \n",
      " 24  WebframeHaveWorkedWith                                74706 non-null  object  \n",
      " 25  WebframeWantToWorkWith                                74706 non-null  object  \n",
      " 26  MiscTechHaveWorkedWith                                74706 non-null  object  \n",
      " 27  MiscTechWantToWorkWith                                74706 non-null  object  \n",
      " 28  ToolsTechHaveWorkedWith                               74706 non-null  object  \n",
      " 29  ToolsTechWantToWorkWith                               74706 non-null  object  \n",
      " 30  NEWCollabToolsHaveWorkedWith                          74706 non-null  object  \n",
      " 31  NEWCollabToolsWantToWorkWith                          74706 non-null  object  \n",
      " 32  OpSysPersonal use                                     74706 non-null  object  \n",
      " 33  OpSysProfessional use                                 74706 non-null  object  \n",
      " 34  OfficeStackAsyncHaveWorkedWith                        74706 non-null  object  \n",
      " 35  OfficeStackAsyncWantToWorkWith                        74706 non-null  object  \n",
      " 36  OfficeStackSyncHaveWorkedWith                         74706 non-null  object  \n",
      " 37  OfficeStackSyncWantToWorkWith                         74706 non-null  object  \n",
      " 38  AISearchHaveWorkedWith                                74706 non-null  object  \n",
      " 39  AISearchWantToWorkWith                                74706 non-null  object  \n",
      " 40  NEWSOSites                                            74706 non-null  object  \n",
      " 41  SOVisitFreq                                           74706 non-null  category\n",
      " 42  SOAccount                                             74706 non-null  object  \n",
      " 43  SOPartFreq                                            74706 non-null  category\n",
      " 44  SOComm                                                74706 non-null  object  \n",
      " 45  SOAI                                                  74706 non-null  category\n",
      " 46  AISelect                                              74706 non-null  object  \n",
      " 47  AISent                                                74706 non-null  category\n",
      " 48  AIBen                                                 74706 non-null  category\n",
      " 49  TBranch                                               74706 non-null  object  \n",
      " 50  ICorPM                                                74706 non-null  object  \n",
      " 51  WorkExp                                               74706 non-null  float64 \n",
      " 52  Knowledge_1                                           74706 non-null  category\n",
      " 53  Knowledge_2                                           74706 non-null  category\n",
      " 54  Knowledge_3                                           74706 non-null  category\n",
      " 55  Knowledge_4                                           74706 non-null  category\n",
      " 56  Knowledge_5                                           74706 non-null  category\n",
      " 57  Knowledge_6                                           74706 non-null  category\n",
      " 58  Knowledge_7                                           74706 non-null  category\n",
      " 59  Knowledge_8                                           74706 non-null  category\n",
      " 60  Frequency_1                                           74706 non-null  category\n",
      " 61  Frequency_2                                           74706 non-null  category\n",
      " 62  Frequency_3                                           74706 non-null  category\n",
      " 63  TimeSearching                                         74706 non-null  category\n",
      " 64  TimeAnswering                                         74706 non-null  category\n",
      " 65  ProfessionalTech                                      74706 non-null  object  \n",
      " 66  SurveyLength                                          74706 non-null  object  \n",
      " 67  SurveyEase                                            74706 non-null  object  \n",
      " 68  ConvertedCompYearly                                   46605 non-null  float64 \n",
      " 69  Employed, full-time                                   74706 non-null  int64   \n",
      " 70  Employed, part-time                                   74706 non-null  int64   \n",
      " 71  I prefer not to say                                   74706 non-null  int64   \n",
      " 72  Independent contractor, freelancer, or self-employed  74706 non-null  int64   \n",
      " 73  Not employed, and not looking for work                74706 non-null  int64   \n",
      " 74  Not employed, but looking for work                    74706 non-null  int64   \n",
      " 75  Retired                                               74706 non-null  int64   \n",
      " 76  Student, full-time                                    74706 non-null  int64   \n",
      " 77  Student, part-time                                    74706 non-null  int64   \n",
      "dtypes: category(25), float64(5), int64(10), object(38)\n",
      "memory usage: 34.1+ MB\n"
     ]
    }
   ],
   "source": [
    "clean_df.info()"
   ]
  },
  {
   "cell_type": "code",
   "execution_count": 84,
   "id": "14adec0d",
   "metadata": {},
   "outputs": [
    {
     "name": "stdout",
     "output_type": "stream",
     "text": [
      "74963.0\n"
     ]
    }
   ],
   "source": [
    "print(clean_df['ConvertedCompYearly'].median())"
   ]
  },
  {
   "cell_type": "markdown",
   "id": "b37f44a0-cbd5-48c3-99d4-ede20a0f141e",
   "metadata": {},
   "source": [
    "Edhe per ConvertedCompYearly vendosim te mbushim vlerat qe mungojne sipas medianes se personave te shtetit te njejte.\n",
    "\n",
    "Perdorim medianen dhe jo mesataren per ti evituar ndikimet e outliers, te cilet paraqiten ne kete dataset"
   ]
  },
  {
   "cell_type": "code",
   "execution_count": 85,
   "id": "46af6148",
   "metadata": {},
   "outputs": [],
   "source": [
    "global_ccy_median = clean_df['ConvertedCompYearly'].median()\n",
    "\n",
    "clean_df['ConvertedCompYearly'] = clean_df.groupby('Country')['ConvertedCompYearly'].transform(\n",
    "    lambda x: x.fillna(x.median() if not x.dropna().empty else global_ccy_median)\n",
    ")"
   ]
  },
  {
   "cell_type": "markdown",
   "id": "d4c3a045-661c-42fb-b60d-de7220ba399c",
   "metadata": {},
   "source": [
    "Ne fund shohim se kemi trajtuar te gjitha vlerat qe mungojne ne dataset, dhe te gjitha kolonat perkatese, duke i shnderruar ne vlera numerike, kategorike, binare sipas nevojes. Pasi qe dataseti kompletohet mund ta eksportojme ne format csv."
   ]
  },
  {
   "cell_type": "code",
   "execution_count": 86,
   "id": "860852af",
   "metadata": {
    "scrolled": true
   },
   "outputs": [
    {
     "data": {
      "text/plain": [
       "ResponseId                                0\n",
       "MainBranch                                0\n",
       "Age                                       0\n",
       "RemoteWork                                0\n",
       "CodingActivities                          0\n",
       "                                         ..\n",
       "Not employed, and not looking for work    0\n",
       "Not employed, but looking for work        0\n",
       "Retired                                   0\n",
       "Student, full-time                        0\n",
       "Student, part-time                        0\n",
       "Length: 78, dtype: int64"
      ]
     },
     "execution_count": 86,
     "metadata": {},
     "output_type": "execute_result"
    }
   ],
   "source": [
    "clean_df.isna().sum()"
   ]
  },
  {
   "cell_type": "code",
   "execution_count": 87,
   "id": "13db92a5-3628-424f-889d-8dfbe3367df3",
   "metadata": {},
   "outputs": [
    {
     "name": "stdout",
     "output_type": "stream",
     "text": [
      "<class 'pandas.core.frame.DataFrame'>\n",
      "Index: 74706 entries, 1 to 89183\n",
      "Data columns (total 78 columns):\n",
      " #   Column                                                Non-Null Count  Dtype   \n",
      "---  ------                                                --------------  -----   \n",
      " 0   ResponseId                                            74706 non-null  int64   \n",
      " 1   MainBranch                                            74706 non-null  category\n",
      " 2   Age                                                   74706 non-null  category\n",
      " 3   RemoteWork                                            74706 non-null  category\n",
      " 4   CodingActivities                                      74706 non-null  object  \n",
      " 5   EdLevel                                               74706 non-null  category\n",
      " 6   LearnCode                                             74706 non-null  object  \n",
      " 7   LearnCodeOnline                                       74706 non-null  object  \n",
      " 8   YearsCode                                             74706 non-null  float64 \n",
      " 9   YearsCodePro                                          74706 non-null  float64 \n",
      " 10  DevType                                               74706 non-null  category\n",
      " 11  OrgSize                                               74706 non-null  category\n",
      " 12  PurchaseInfluence                                     74706 non-null  category\n",
      " 13  TechList                                              74706 non-null  object  \n",
      " 14  BuyNewTool                                            74706 non-null  object  \n",
      " 15  Country                                               74706 non-null  object  \n",
      " 16  Currency                                              74706 non-null  object  \n",
      " 17  CompTotal                                             74706 non-null  float64 \n",
      " 18  LanguageHaveWorkedWith                                74706 non-null  object  \n",
      " 19  LanguageWantToWorkWith                                74706 non-null  object  \n",
      " 20  DatabaseHaveWorkedWith                                74706 non-null  object  \n",
      " 21  DatabaseWantToWorkWith                                74706 non-null  object  \n",
      " 22  PlatformHaveWorkedWith                                74706 non-null  object  \n",
      " 23  PlatformWantToWorkWith                                74706 non-null  object  \n",
      " 24  WebframeHaveWorkedWith                                74706 non-null  object  \n",
      " 25  WebframeWantToWorkWith                                74706 non-null  object  \n",
      " 26  MiscTechHaveWorkedWith                                74706 non-null  object  \n",
      " 27  MiscTechWantToWorkWith                                74706 non-null  object  \n",
      " 28  ToolsTechHaveWorkedWith                               74706 non-null  object  \n",
      " 29  ToolsTechWantToWorkWith                               74706 non-null  object  \n",
      " 30  NEWCollabToolsHaveWorkedWith                          74706 non-null  object  \n",
      " 31  NEWCollabToolsWantToWorkWith                          74706 non-null  object  \n",
      " 32  OpSysPersonal use                                     74706 non-null  object  \n",
      " 33  OpSysProfessional use                                 74706 non-null  object  \n",
      " 34  OfficeStackAsyncHaveWorkedWith                        74706 non-null  object  \n",
      " 35  OfficeStackAsyncWantToWorkWith                        74706 non-null  object  \n",
      " 36  OfficeStackSyncHaveWorkedWith                         74706 non-null  object  \n",
      " 37  OfficeStackSyncWantToWorkWith                         74706 non-null  object  \n",
      " 38  AISearchHaveWorkedWith                                74706 non-null  object  \n",
      " 39  AISearchWantToWorkWith                                74706 non-null  object  \n",
      " 40  NEWSOSites                                            74706 non-null  object  \n",
      " 41  SOVisitFreq                                           74706 non-null  category\n",
      " 42  SOAccount                                             74706 non-null  object  \n",
      " 43  SOPartFreq                                            74706 non-null  category\n",
      " 44  SOComm                                                74706 non-null  object  \n",
      " 45  SOAI                                                  74706 non-null  category\n",
      " 46  AISelect                                              74706 non-null  object  \n",
      " 47  AISent                                                74706 non-null  category\n",
      " 48  AIBen                                                 74706 non-null  category\n",
      " 49  TBranch                                               74706 non-null  object  \n",
      " 50  ICorPM                                                74706 non-null  object  \n",
      " 51  WorkExp                                               74706 non-null  float64 \n",
      " 52  Knowledge_1                                           74706 non-null  category\n",
      " 53  Knowledge_2                                           74706 non-null  category\n",
      " 54  Knowledge_3                                           74706 non-null  category\n",
      " 55  Knowledge_4                                           74706 non-null  category\n",
      " 56  Knowledge_5                                           74706 non-null  category\n",
      " 57  Knowledge_6                                           74706 non-null  category\n",
      " 58  Knowledge_7                                           74706 non-null  category\n",
      " 59  Knowledge_8                                           74706 non-null  category\n",
      " 60  Frequency_1                                           74706 non-null  category\n",
      " 61  Frequency_2                                           74706 non-null  category\n",
      " 62  Frequency_3                                           74706 non-null  category\n",
      " 63  TimeSearching                                         74706 non-null  category\n",
      " 64  TimeAnswering                                         74706 non-null  category\n",
      " 65  ProfessionalTech                                      74706 non-null  object  \n",
      " 66  SurveyLength                                          74706 non-null  object  \n",
      " 67  SurveyEase                                            74706 non-null  object  \n",
      " 68  ConvertedCompYearly                                   74706 non-null  float64 \n",
      " 69  Employed, full-time                                   74706 non-null  int64   \n",
      " 70  Employed, part-time                                   74706 non-null  int64   \n",
      " 71  I prefer not to say                                   74706 non-null  int64   \n",
      " 72  Independent contractor, freelancer, or self-employed  74706 non-null  int64   \n",
      " 73  Not employed, and not looking for work                74706 non-null  int64   \n",
      " 74  Not employed, but looking for work                    74706 non-null  int64   \n",
      " 75  Retired                                               74706 non-null  int64   \n",
      " 76  Student, full-time                                    74706 non-null  int64   \n",
      " 77  Student, part-time                                    74706 non-null  int64   \n",
      "dtypes: category(25), float64(5), int64(10), object(38)\n",
      "memory usage: 34.1+ MB\n"
     ]
    }
   ],
   "source": [
    "clean_df.info()"
   ]
  },
  {
   "cell_type": "code",
   "execution_count": 88,
   "id": "8fd26077",
   "metadata": {},
   "outputs": [],
   "source": [
    "#Eksportojme datasetin\n",
    "#clean_df.to_csv('cleaned_up_dataset.csv', index=False)"
   ]
  },
  {
   "cell_type": "code",
   "execution_count": 89,
   "id": "3e4c1f44-a63a-4549-b00b-826fb30dd499",
   "metadata": {},
   "outputs": [
    {
     "data": {
      "text/plain": [
       "(74706, 78)"
      ]
     },
     "execution_count": 89,
     "metadata": {},
     "output_type": "execute_result"
    }
   ],
   "source": [
    "clean_df.shape"
   ]
  }
 ],
 "metadata": {
  "kernelspec": {
   "display_name": "Python 3 (ipykernel)",
   "language": "python",
   "name": "python3"
  },
  "language_info": {
   "codemirror_mode": {
    "name": "ipython",
    "version": 3
   },
   "file_extension": ".py",
   "mimetype": "text/x-python",
   "name": "python",
   "nbconvert_exporter": "python",
   "pygments_lexer": "ipython3",
   "version": "3.13.2"
  }
 },
 "nbformat": 4,
 "nbformat_minor": 5
}
